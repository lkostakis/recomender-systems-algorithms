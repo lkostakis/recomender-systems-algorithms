{
 "metadata": {
  "language_info": {
   "codemirror_mode": {
    "name": "ipython",
    "version": 3
   },
   "file_extension": ".py",
   "mimetype": "text/x-python",
   "name": "python",
   "nbconvert_exporter": "python",
   "pygments_lexer": "ipython3",
   "version": "3.8.3-final"
  },
  "orig_nbformat": 2,
  "kernelspec": {
   "name": "python3",
   "display_name": "Python 3",
   "language": "python"
  }
 },
 "nbformat": 4,
 "nbformat_minor": 2,
 "cells": [
  {
   "source": [
    "# Ερώτηση 4"
   ],
   "cell_type": "markdown",
   "metadata": {}
  },
  {
   "cell_type": "code",
   "execution_count": 14,
   "metadata": {},
   "outputs": [],
   "source": [
    "import pandas as pd\n",
    "import numpy as np\n",
    "import json\n",
    "import time \n",
    "\n",
    "dataset_path = '../yelp-dataset/' # Change this path to match your local dataset folder path\n",
    "\n",
    "business_filename = 'yelp_academic_dataset_business.json'\n",
    "users_filename = 'yelp_academic_dataset_user.json'"
   ]
  },
  {
   "cell_type": "code",
   "execution_count": 15,
   "metadata": {},
   "outputs": [],
   "source": [
    "list_business = []\n",
    "with open(dataset_path + business_filename, 'r', encoding=\"utf8\") as buisness_file:\n",
    "    for line in buisness_file:\n",
    "        json_dict = json.loads(line)\n",
    "        if json_dict['review_count'] >= 10:\n",
    "            list_business.append([json_dict['business_id'], json_dict['name'], json_dict['review_count']]) "
   ]
  },
  {
   "cell_type": "code",
   "execution_count": 16,
   "metadata": {},
   "outputs": [
    {
     "output_type": "display_data",
     "data": {
      "text/plain": "                   business_id                          name  reviews_count\n0       f9NumwFMBDn751xgFiRbNA      The Range At Lake Norman             36\n1       51M2Kk903DFYI6gnB5I6SQ       USE MY GUY SERVICES LLC             26\n2       cKyLV5oWZJ2NudWgqs8VZw   Oasis Auto Center - Gilbert             38\n3       oiAlXZPIFm2nBCt0DHLu_Q          Green World Cleaners             81\n4       ScYkbYNkDgCneBrD9vqhCQ  Junction Tire & Auto Service             18\n...                        ...                           ...            ...\n103798  BAVuLTDmpSzDCk37A5HjtQ             Bruegger's Bagels             13\n103799  hskVqZCPqy-omm9CHi44xQ                      Domino's             16\n103800  JjcJVqhZXhP4tvOhg3fnag             Water Heater Pros            217\n103801  PotiAhtDMYMNsJCzV0oLAw                       Walmart             13\n103802  SYa2j1boLF8DcGVOYfHPcA                     Five Guys             97\n\n[103803 rows x 3 columns]",
      "text/html": "<div>\n<style scoped>\n    .dataframe tbody tr th:only-of-type {\n        vertical-align: middle;\n    }\n\n    .dataframe tbody tr th {\n        vertical-align: top;\n    }\n\n    .dataframe thead th {\n        text-align: right;\n    }\n</style>\n<table border=\"1\" class=\"dataframe\">\n  <thead>\n    <tr style=\"text-align: right;\">\n      <th></th>\n      <th>business_id</th>\n      <th>name</th>\n      <th>reviews_count</th>\n    </tr>\n  </thead>\n  <tbody>\n    <tr>\n      <th>0</th>\n      <td>f9NumwFMBDn751xgFiRbNA</td>\n      <td>The Range At Lake Norman</td>\n      <td>36</td>\n    </tr>\n    <tr>\n      <th>1</th>\n      <td>51M2Kk903DFYI6gnB5I6SQ</td>\n      <td>USE MY GUY SERVICES LLC</td>\n      <td>26</td>\n    </tr>\n    <tr>\n      <th>2</th>\n      <td>cKyLV5oWZJ2NudWgqs8VZw</td>\n      <td>Oasis Auto Center - Gilbert</td>\n      <td>38</td>\n    </tr>\n    <tr>\n      <th>3</th>\n      <td>oiAlXZPIFm2nBCt0DHLu_Q</td>\n      <td>Green World Cleaners</td>\n      <td>81</td>\n    </tr>\n    <tr>\n      <th>4</th>\n      <td>ScYkbYNkDgCneBrD9vqhCQ</td>\n      <td>Junction Tire &amp; Auto Service</td>\n      <td>18</td>\n    </tr>\n    <tr>\n      <th>...</th>\n      <td>...</td>\n      <td>...</td>\n      <td>...</td>\n    </tr>\n    <tr>\n      <th>103798</th>\n      <td>BAVuLTDmpSzDCk37A5HjtQ</td>\n      <td>Bruegger's Bagels</td>\n      <td>13</td>\n    </tr>\n    <tr>\n      <th>103799</th>\n      <td>hskVqZCPqy-omm9CHi44xQ</td>\n      <td>Domino's</td>\n      <td>16</td>\n    </tr>\n    <tr>\n      <th>103800</th>\n      <td>JjcJVqhZXhP4tvOhg3fnag</td>\n      <td>Water Heater Pros</td>\n      <td>217</td>\n    </tr>\n    <tr>\n      <th>103801</th>\n      <td>PotiAhtDMYMNsJCzV0oLAw</td>\n      <td>Walmart</td>\n      <td>13</td>\n    </tr>\n    <tr>\n      <th>103802</th>\n      <td>SYa2j1boLF8DcGVOYfHPcA</td>\n      <td>Five Guys</td>\n      <td>97</td>\n    </tr>\n  </tbody>\n</table>\n<p>103803 rows × 3 columns</p>\n</div>"
     },
     "metadata": {}
    }
   ],
   "source": [
    "df_buisness = pd.DataFrame(list_business, columns=['business_id', 'name', 'reviews_count'])\n",
    "display(df_buisness)"
   ]
  },
  {
   "cell_type": "code",
   "execution_count": 17,
   "metadata": {},
   "outputs": [],
   "source": [
    "graph_G = {} # dictionary whose keys are the nodes of the graph. \n",
    "             # For each key, the corresponding value is a list \n",
    "             # containing the nodes that are connected by a direct \n",
    "             # arc from this node."
   ]
  },
  {
   "cell_type": "code",
   "execution_count": 18,
   "metadata": {},
   "outputs": [],
   "source": [
    "list_users = []\n",
    "with open(dataset_path + users_filename, 'r', encoding=\"utf8\") as users_file:\n",
    "    for line in users_file:\n",
    "        json_dict = json.loads(line)\n",
    "        if json_dict['review_count'] >= 10:\n",
    "            list_users.append([json_dict['user_id'], json_dict['name'], json_dict['review_count'], json_dict['friends']]) \n",
    "            graph_G[json_dict['user_id']] = json_dict['friends']"
   ]
  },
  {
   "cell_type": "code",
   "execution_count": 19,
   "metadata": {},
   "outputs": [
    {
     "output_type": "display_data",
     "data": {
      "text/plain": "                   business_id        name  reviews_count  \\\n0       ntlvfPzc8eglqvk92iDIAw      Rafael            553   \n1       FOBRPlBHa3WPHFB5qYDlVg    Michelle            564   \n2       zZUnPeh2hEp0WydbAZEOOg      Martin             60   \n3       QaELAmRcDc5TfJEylaaP8g        John            206   \n4       xvu8G900tezTzbbfqmTKvA        Anne            485   \n...                        ...         ...            ...   \n688827  thOXz-s_02JRhDy6O7NDRA       Chris             16   \n688828  xRgzVeijUq12h_hI1nEoLg           J             17   \n688829  nx9l-OtqmPZOe7xHwOsTog     Ernesto             64   \n688830  mhYau4G-UWL5y93lXR2LBg  Caligirl24             22   \n688831  VEAWhS_RF-cKSUflmbCn7Q       Frank             10   \n\n                                                  friends  \n0       oeMvJh94PiGQnx_6GlndPQ, wm1z1PaJKvHgSDRKfwhfDg...  \n1       ly7EnE8leJmyqyePVYFlug, pRlR63iDytsnnniPb3AOug...  \n2       Uwlk0txjQBPw_JhHsQnyeg, Ybxr1tSCkv3lYA0I1qmnPQ...  \n3       iog3Nyg1i4jeumiTVG_BSA, M92xWY2Vr9w0xoH8bPplfQ...  \n4       3W3ZMSthojCUirKEqAwGNw, eTIbuu23j9tOgmIa9POyLQ...  \n...                                                   ...  \n688827                                               None  \n688828                                               None  \n688829                                               None  \n688830                                               None  \n688831                                               None  \n\n[688832 rows x 4 columns]",
      "text/html": "<div>\n<style scoped>\n    .dataframe tbody tr th:only-of-type {\n        vertical-align: middle;\n    }\n\n    .dataframe tbody tr th {\n        vertical-align: top;\n    }\n\n    .dataframe thead th {\n        text-align: right;\n    }\n</style>\n<table border=\"1\" class=\"dataframe\">\n  <thead>\n    <tr style=\"text-align: right;\">\n      <th></th>\n      <th>business_id</th>\n      <th>name</th>\n      <th>reviews_count</th>\n      <th>friends</th>\n    </tr>\n  </thead>\n  <tbody>\n    <tr>\n      <th>0</th>\n      <td>ntlvfPzc8eglqvk92iDIAw</td>\n      <td>Rafael</td>\n      <td>553</td>\n      <td>oeMvJh94PiGQnx_6GlndPQ, wm1z1PaJKvHgSDRKfwhfDg...</td>\n    </tr>\n    <tr>\n      <th>1</th>\n      <td>FOBRPlBHa3WPHFB5qYDlVg</td>\n      <td>Michelle</td>\n      <td>564</td>\n      <td>ly7EnE8leJmyqyePVYFlug, pRlR63iDytsnnniPb3AOug...</td>\n    </tr>\n    <tr>\n      <th>2</th>\n      <td>zZUnPeh2hEp0WydbAZEOOg</td>\n      <td>Martin</td>\n      <td>60</td>\n      <td>Uwlk0txjQBPw_JhHsQnyeg, Ybxr1tSCkv3lYA0I1qmnPQ...</td>\n    </tr>\n    <tr>\n      <th>3</th>\n      <td>QaELAmRcDc5TfJEylaaP8g</td>\n      <td>John</td>\n      <td>206</td>\n      <td>iog3Nyg1i4jeumiTVG_BSA, M92xWY2Vr9w0xoH8bPplfQ...</td>\n    </tr>\n    <tr>\n      <th>4</th>\n      <td>xvu8G900tezTzbbfqmTKvA</td>\n      <td>Anne</td>\n      <td>485</td>\n      <td>3W3ZMSthojCUirKEqAwGNw, eTIbuu23j9tOgmIa9POyLQ...</td>\n    </tr>\n    <tr>\n      <th>...</th>\n      <td>...</td>\n      <td>...</td>\n      <td>...</td>\n      <td>...</td>\n    </tr>\n    <tr>\n      <th>688827</th>\n      <td>thOXz-s_02JRhDy6O7NDRA</td>\n      <td>Chris</td>\n      <td>16</td>\n      <td>None</td>\n    </tr>\n    <tr>\n      <th>688828</th>\n      <td>xRgzVeijUq12h_hI1nEoLg</td>\n      <td>J</td>\n      <td>17</td>\n      <td>None</td>\n    </tr>\n    <tr>\n      <th>688829</th>\n      <td>nx9l-OtqmPZOe7xHwOsTog</td>\n      <td>Ernesto</td>\n      <td>64</td>\n      <td>None</td>\n    </tr>\n    <tr>\n      <th>688830</th>\n      <td>mhYau4G-UWL5y93lXR2LBg</td>\n      <td>Caligirl24</td>\n      <td>22</td>\n      <td>None</td>\n    </tr>\n    <tr>\n      <th>688831</th>\n      <td>VEAWhS_RF-cKSUflmbCn7Q</td>\n      <td>Frank</td>\n      <td>10</td>\n      <td>None</td>\n    </tr>\n  </tbody>\n</table>\n<p>688832 rows × 4 columns</p>\n</div>"
     },
     "metadata": {}
    }
   ],
   "source": [
    "df_users = pd.DataFrame(list_users, columns=['business_id', 'name', 'reviews_count', 'friends'])\n",
    "display(df_users)"
   ]
  }
 ]
}