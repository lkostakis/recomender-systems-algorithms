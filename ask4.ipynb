{
 "metadata": {
  "language_info": {
   "codemirror_mode": {
    "name": "ipython",
    "version": 3
   },
   "file_extension": ".py",
   "mimetype": "text/x-python",
   "name": "python",
   "nbconvert_exporter": "python",
   "pygments_lexer": "ipython3",
   "version": "3.8.3-final"
  },
  "orig_nbformat": 2,
  "kernelspec": {
   "name": "python3",
   "display_name": "Python 3",
   "language": "python"
  }
 },
 "nbformat": 4,
 "nbformat_minor": 2,
 "cells": [
  {
   "source": [
    "# Ερώτηση 4"
   ],
   "cell_type": "markdown",
   "metadata": {}
  },
  {
   "cell_type": "code",
   "execution_count": 1,
   "metadata": {},
   "outputs": [],
   "source": [
    "import pandas as pd\n",
    "import numpy as np\n",
    "import json\n",
    "import time \n",
    "\n",
    "dataset_path = '../yelp-dataset/' # Change this path to match your local dataset folder path\n",
    "\n",
    "business_filename = 'yelp_academic_dataset_business.json'\n",
    "users_filename = 'yelp_academic_dataset_user.json'\n",
    "review_filename = 'yelp_academic_dataset_review.json'"
   ]
  },
  {
   "cell_type": "code",
   "execution_count": 2,
   "metadata": {},
   "outputs": [],
   "source": [
    "# Loading total businesses with at least 50 reviews\n",
    "list_business = []\n",
    "with open(dataset_path + business_filename, 'r', encoding=\"utf8\") as buisness_file:\n",
    "    for line in buisness_file:\n",
    "        json_dict = json.loads(line)\n",
    "        if json_dict['review_count'] >= 50:\n",
    "            list_business.append([ json_dict['business_id'], \n",
    "                                   json_dict['name'], \n",
    "                                   json_dict['review_count']]) "
   ]
  },
  {
   "cell_type": "code",
   "execution_count": 3,
   "metadata": {},
   "outputs": [
    {
     "output_type": "display_data",
     "data": {
      "text/plain": "                  business_id                           name  b_reviews_count\n0      oiAlXZPIFm2nBCt0DHLu_Q           Green World Cleaners               81\n1      x3Po6tJGb729u_HJPY6UCA              Glendale Glitters               52\n2      Mmd5WDFq9hHcQ3uClngGjQ               Irene's Tap Room               79\n3      tF2ovXGBW6EeaPDWOxjpbg                    Autohaus Az               79\n4      0QjROMVW9ACKjhSEfHqNCQ               Mi Mi Restaurant              116\n...                       ...                            ...              ...\n31937  YZeUH6zYS0dq5QHLYZhUnQ                        Hooters              106\n31938  xVpE01l6ZXdEtVf5PkRpDg                          Julep               95\n31939  fNil19SUfPAPnLQrYnFrGQ  Cheyenne West Animal Hospital              124\n31940  JjcJVqhZXhP4tvOhg3fnag              Water Heater Pros              217\n31941  SYa2j1boLF8DcGVOYfHPcA                      Five Guys               97\n\n[31942 rows x 3 columns]",
      "text/html": "<div>\n<style scoped>\n    .dataframe tbody tr th:only-of-type {\n        vertical-align: middle;\n    }\n\n    .dataframe tbody tr th {\n        vertical-align: top;\n    }\n\n    .dataframe thead th {\n        text-align: right;\n    }\n</style>\n<table border=\"1\" class=\"dataframe\">\n  <thead>\n    <tr style=\"text-align: right;\">\n      <th></th>\n      <th>business_id</th>\n      <th>name</th>\n      <th>b_reviews_count</th>\n    </tr>\n  </thead>\n  <tbody>\n    <tr>\n      <th>0</th>\n      <td>oiAlXZPIFm2nBCt0DHLu_Q</td>\n      <td>Green World Cleaners</td>\n      <td>81</td>\n    </tr>\n    <tr>\n      <th>1</th>\n      <td>x3Po6tJGb729u_HJPY6UCA</td>\n      <td>Glendale Glitters</td>\n      <td>52</td>\n    </tr>\n    <tr>\n      <th>2</th>\n      <td>Mmd5WDFq9hHcQ3uClngGjQ</td>\n      <td>Irene's Tap Room</td>\n      <td>79</td>\n    </tr>\n    <tr>\n      <th>3</th>\n      <td>tF2ovXGBW6EeaPDWOxjpbg</td>\n      <td>Autohaus Az</td>\n      <td>79</td>\n    </tr>\n    <tr>\n      <th>4</th>\n      <td>0QjROMVW9ACKjhSEfHqNCQ</td>\n      <td>Mi Mi Restaurant</td>\n      <td>116</td>\n    </tr>\n    <tr>\n      <th>...</th>\n      <td>...</td>\n      <td>...</td>\n      <td>...</td>\n    </tr>\n    <tr>\n      <th>31937</th>\n      <td>YZeUH6zYS0dq5QHLYZhUnQ</td>\n      <td>Hooters</td>\n      <td>106</td>\n    </tr>\n    <tr>\n      <th>31938</th>\n      <td>xVpE01l6ZXdEtVf5PkRpDg</td>\n      <td>Julep</td>\n      <td>95</td>\n    </tr>\n    <tr>\n      <th>31939</th>\n      <td>fNil19SUfPAPnLQrYnFrGQ</td>\n      <td>Cheyenne West Animal Hospital</td>\n      <td>124</td>\n    </tr>\n    <tr>\n      <th>31940</th>\n      <td>JjcJVqhZXhP4tvOhg3fnag</td>\n      <td>Water Heater Pros</td>\n      <td>217</td>\n    </tr>\n    <tr>\n      <th>31941</th>\n      <td>SYa2j1boLF8DcGVOYfHPcA</td>\n      <td>Five Guys</td>\n      <td>97</td>\n    </tr>\n  </tbody>\n</table>\n<p>31942 rows × 3 columns</p>\n</div>"
     },
     "metadata": {}
    }
   ],
   "source": [
    "df_buisness = pd.DataFrame(list_business, columns=['business_id', 'name', 'b_reviews_count'])\n",
    "display(df_buisness)"
   ]
  },
  {
   "cell_type": "code",
   "execution_count": 4,
   "metadata": {},
   "outputs": [],
   "source": [
    "B = df_buisness['business_id'].to_numpy()"
   ]
  },
  {
   "cell_type": "code",
   "execution_count": 5,
   "metadata": {},
   "outputs": [],
   "source": [
    "# Helping function to check if a business is in business_col (Toronto and >=15 reviews)\n",
    "def get_business_index(business_id):\n",
    "    return np.where(B == business_id)[0]"
   ]
  },
  {
   "cell_type": "code",
   "execution_count": 6,
   "metadata": {},
   "outputs": [
    {
     "output_type": "execute_result",
     "data": {
      "text/plain": [
       "array([31937], dtype=int64)"
      ]
     },
     "metadata": {},
     "execution_count": 6
    }
   ],
   "source": [
    "get_business_index('YZeUH6zYS0dq5QHLYZhUnQ')"
   ]
  },
  {
   "cell_type": "code",
   "execution_count": 7,
   "metadata": {},
   "outputs": [],
   "source": [
    "list_reviews = []\n",
    "with open(dataset_path + review_filename, 'r', encoding=\"utf8\") as reviews_file:\n",
    "    for line in reviews_file:\n",
    "        json_dict = json.loads(line)\n",
    "        list_reviews.append([json_dict['business_id'], json_dict['user_id']])\n",
    "           "
   ]
  },
  {
   "cell_type": "code",
   "execution_count": 8,
   "metadata": {},
   "outputs": [
    {
     "output_type": "execute_result",
     "data": {
      "text/plain": [
       "                    business_id                 user_id\n",
       "0        -MhfebM0QIsKt87iDN-FNw  OwjRMXRC0KyPrIlcjaXeFQ\n",
       "1        lbrU8StCq3yDfr-QMnGrmQ  nIJD_7ZXHq-FX8byPMOkMQ\n",
       "2        HQl28KMwrEKHqhFrrDqVNQ  V34qejxNsCbcgD8C0HVk-Q\n",
       "3        5JxlZaqCnk1MnbgRirs40Q  ofKDkJKXSKZXu5xJNGiiBQ\n",
       "4        IS4cv902ykd8wj1TR0N3-A  UgMW8bLE0QMJDCkQ1Ax5Mg\n",
       "...                         ...                     ...\n",
       "8021117  XW2kaXdahICaJ27A0dhGHg  6DMFD3BRp-MVzDQelRx5UQ\n",
       "8021118  IsoLzudHC50oJLiEWpwV-w  _g6P8H3-qfbz1FxbffS68g\n",
       "8021119  kDCyqlYcstqnoqnfBRS5Og  Scmyz7MK4TbXXYcaLZxIxQ\n",
       "8021120  VKVDDHKtsdrnigeIf9S8RA  lBuAACBEThaQHQGMzAlKpg\n",
       "8021121  2SbyRgHWuWNlq18eHAx95Q  fiA6ztHPONUkmX6yKIXyHg\n",
       "\n",
       "[8021122 rows x 2 columns]"
      ],
      "text/html": "<div>\n<style scoped>\n    .dataframe tbody tr th:only-of-type {\n        vertical-align: middle;\n    }\n\n    .dataframe tbody tr th {\n        vertical-align: top;\n    }\n\n    .dataframe thead th {\n        text-align: right;\n    }\n</style>\n<table border=\"1\" class=\"dataframe\">\n  <thead>\n    <tr style=\"text-align: right;\">\n      <th></th>\n      <th>business_id</th>\n      <th>user_id</th>\n    </tr>\n  </thead>\n  <tbody>\n    <tr>\n      <th>0</th>\n      <td>-MhfebM0QIsKt87iDN-FNw</td>\n      <td>OwjRMXRC0KyPrIlcjaXeFQ</td>\n    </tr>\n    <tr>\n      <th>1</th>\n      <td>lbrU8StCq3yDfr-QMnGrmQ</td>\n      <td>nIJD_7ZXHq-FX8byPMOkMQ</td>\n    </tr>\n    <tr>\n      <th>2</th>\n      <td>HQl28KMwrEKHqhFrrDqVNQ</td>\n      <td>V34qejxNsCbcgD8C0HVk-Q</td>\n    </tr>\n    <tr>\n      <th>3</th>\n      <td>5JxlZaqCnk1MnbgRirs40Q</td>\n      <td>ofKDkJKXSKZXu5xJNGiiBQ</td>\n    </tr>\n    <tr>\n      <th>4</th>\n      <td>IS4cv902ykd8wj1TR0N3-A</td>\n      <td>UgMW8bLE0QMJDCkQ1Ax5Mg</td>\n    </tr>\n    <tr>\n      <th>...</th>\n      <td>...</td>\n      <td>...</td>\n    </tr>\n    <tr>\n      <th>8021117</th>\n      <td>XW2kaXdahICaJ27A0dhGHg</td>\n      <td>6DMFD3BRp-MVzDQelRx5UQ</td>\n    </tr>\n    <tr>\n      <th>8021118</th>\n      <td>IsoLzudHC50oJLiEWpwV-w</td>\n      <td>_g6P8H3-qfbz1FxbffS68g</td>\n    </tr>\n    <tr>\n      <th>8021119</th>\n      <td>kDCyqlYcstqnoqnfBRS5Og</td>\n      <td>Scmyz7MK4TbXXYcaLZxIxQ</td>\n    </tr>\n    <tr>\n      <th>8021120</th>\n      <td>VKVDDHKtsdrnigeIf9S8RA</td>\n      <td>lBuAACBEThaQHQGMzAlKpg</td>\n    </tr>\n    <tr>\n      <th>8021121</th>\n      <td>2SbyRgHWuWNlq18eHAx95Q</td>\n      <td>fiA6ztHPONUkmX6yKIXyHg</td>\n    </tr>\n  </tbody>\n</table>\n<p>8021122 rows × 2 columns</p>\n</div>"
     },
     "metadata": {},
     "execution_count": 8
    }
   ],
   "source": [
    "reviews_df = pd.DataFrame(list_reviews, columns=['business_id', 'user_id'])\n",
    "reviews_df"
   ]
  },
  {
   "cell_type": "code",
   "execution_count": 9,
   "metadata": {},
   "outputs": [],
   "source": [
    "# inner join of df_buisness table and reviews_df\n",
    "business_users = pd.merge(df_buisness, reviews_df, how='inner', on=['business_id'])"
   ]
  },
  {
   "cell_type": "code",
   "execution_count": 10,
   "metadata": {},
   "outputs": [
    {
     "output_type": "execute_result",
     "data": {
      "text/plain": [
       "                    business_id                  name  b_reviews_count  \\\n",
       "0        oiAlXZPIFm2nBCt0DHLu_Q  Green World Cleaners               81   \n",
       "1        oiAlXZPIFm2nBCt0DHLu_Q  Green World Cleaners               81   \n",
       "2        oiAlXZPIFm2nBCt0DHLu_Q  Green World Cleaners               81   \n",
       "3        oiAlXZPIFm2nBCt0DHLu_Q  Green World Cleaners               81   \n",
       "4        oiAlXZPIFm2nBCt0DHLu_Q  Green World Cleaners               81   \n",
       "...                         ...                   ...              ...   \n",
       "5852605  SYa2j1boLF8DcGVOYfHPcA             Five Guys               97   \n",
       "5852606  SYa2j1boLF8DcGVOYfHPcA             Five Guys               97   \n",
       "5852607  SYa2j1boLF8DcGVOYfHPcA             Five Guys               97   \n",
       "5852608  SYa2j1boLF8DcGVOYfHPcA             Five Guys               97   \n",
       "5852609  SYa2j1boLF8DcGVOYfHPcA             Five Guys               97   \n",
       "\n",
       "                        user_id  \n",
       "0        IMguz1Z9dp8HG0UfeLEdEg  \n",
       "1        _TAVpa1Y2_5KZ5wWYeX_6g  \n",
       "2        45R6BBybzwDuJaL08d1myQ  \n",
       "3        7iziCsP2MkHMmckpYVPSDg  \n",
       "4        Yg08tRMxm0eaL-rXyNIAHw  \n",
       "...                         ...  \n",
       "5852605  CUMaqXDakJeMTkUjpI8FxA  \n",
       "5852606  jaz6V3x-ybMFMqgzpAuV1w  \n",
       "5852607  jgCNT4cJN3JPHtPnY1wgrQ  \n",
       "5852608  pgUQjUl_2G5L9EreDzIjSw  \n",
       "5852609  KcRKqbOjdgjq2UL1nhf9wQ  \n",
       "\n",
       "[5852610 rows x 4 columns]"
      ],
      "text/html": "<div>\n<style scoped>\n    .dataframe tbody tr th:only-of-type {\n        vertical-align: middle;\n    }\n\n    .dataframe tbody tr th {\n        vertical-align: top;\n    }\n\n    .dataframe thead th {\n        text-align: right;\n    }\n</style>\n<table border=\"1\" class=\"dataframe\">\n  <thead>\n    <tr style=\"text-align: right;\">\n      <th></th>\n      <th>business_id</th>\n      <th>name</th>\n      <th>b_reviews_count</th>\n      <th>user_id</th>\n    </tr>\n  </thead>\n  <tbody>\n    <tr>\n      <th>0</th>\n      <td>oiAlXZPIFm2nBCt0DHLu_Q</td>\n      <td>Green World Cleaners</td>\n      <td>81</td>\n      <td>IMguz1Z9dp8HG0UfeLEdEg</td>\n    </tr>\n    <tr>\n      <th>1</th>\n      <td>oiAlXZPIFm2nBCt0DHLu_Q</td>\n      <td>Green World Cleaners</td>\n      <td>81</td>\n      <td>_TAVpa1Y2_5KZ5wWYeX_6g</td>\n    </tr>\n    <tr>\n      <th>2</th>\n      <td>oiAlXZPIFm2nBCt0DHLu_Q</td>\n      <td>Green World Cleaners</td>\n      <td>81</td>\n      <td>45R6BBybzwDuJaL08d1myQ</td>\n    </tr>\n    <tr>\n      <th>3</th>\n      <td>oiAlXZPIFm2nBCt0DHLu_Q</td>\n      <td>Green World Cleaners</td>\n      <td>81</td>\n      <td>7iziCsP2MkHMmckpYVPSDg</td>\n    </tr>\n    <tr>\n      <th>4</th>\n      <td>oiAlXZPIFm2nBCt0DHLu_Q</td>\n      <td>Green World Cleaners</td>\n      <td>81</td>\n      <td>Yg08tRMxm0eaL-rXyNIAHw</td>\n    </tr>\n    <tr>\n      <th>...</th>\n      <td>...</td>\n      <td>...</td>\n      <td>...</td>\n      <td>...</td>\n    </tr>\n    <tr>\n      <th>5852605</th>\n      <td>SYa2j1boLF8DcGVOYfHPcA</td>\n      <td>Five Guys</td>\n      <td>97</td>\n      <td>CUMaqXDakJeMTkUjpI8FxA</td>\n    </tr>\n    <tr>\n      <th>5852606</th>\n      <td>SYa2j1boLF8DcGVOYfHPcA</td>\n      <td>Five Guys</td>\n      <td>97</td>\n      <td>jaz6V3x-ybMFMqgzpAuV1w</td>\n    </tr>\n    <tr>\n      <th>5852607</th>\n      <td>SYa2j1boLF8DcGVOYfHPcA</td>\n      <td>Five Guys</td>\n      <td>97</td>\n      <td>jgCNT4cJN3JPHtPnY1wgrQ</td>\n    </tr>\n    <tr>\n      <th>5852608</th>\n      <td>SYa2j1boLF8DcGVOYfHPcA</td>\n      <td>Five Guys</td>\n      <td>97</td>\n      <td>pgUQjUl_2G5L9EreDzIjSw</td>\n    </tr>\n    <tr>\n      <th>5852609</th>\n      <td>SYa2j1boLF8DcGVOYfHPcA</td>\n      <td>Five Guys</td>\n      <td>97</td>\n      <td>KcRKqbOjdgjq2UL1nhf9wQ</td>\n    </tr>\n  </tbody>\n</table>\n<p>5852610 rows × 4 columns</p>\n</div>"
     },
     "metadata": {},
     "execution_count": 10
    }
   ],
   "source": [
    "# the above helps us get a user_ids column which has all of the id's of the users that\n",
    "# commented on any of the businesses on the B dataframe. \n",
    "business_users"
   ]
  },
  {
   "cell_type": "code",
   "execution_count": 17,
   "metadata": {},
   "outputs": [],
   "source": [
    "# We count how many comments each unique user_id has\n",
    "users_comments = business_users['user_id'].value_counts().rename_axis('user_id').reset_index(name='counts')"
   ]
  },
  {
   "cell_type": "code",
   "execution_count": 18,
   "metadata": {},
   "outputs": [
    {
     "output_type": "execute_result",
     "data": {
      "text/plain": [
       "                        user_id  counts\n",
       "0        bLbSNkLggFnqwNNzzq-Ijw    1959\n",
       "1        ELcQDlf69kb-ihJfxZyL0A    1689\n",
       "2        CxDOIDnH8gp9KXzpBHJYXw    1628\n",
       "3        PKEzKWv_FktMm2mGPjwd0Q    1532\n",
       "4        U4INQZOPSUaj8hMjLlZ3KA    1529\n",
       "...                         ...     ...\n",
       "1601244  d_bbo2M-xg29l-yD6YvFLw       1\n",
       "1601245  VTejp6GPkLcdJpdf4ebtBw       1\n",
       "1601246  KZurrkPsuCtJ7bQsIqjMMw       1\n",
       "1601247  ZTEP2bsIV4nscSKbMzrITg       1\n",
       "1601248  L_EHD6jRMY-NhJ984GVfBw       1\n",
       "\n",
       "[1601249 rows x 2 columns]"
      ],
      "text/html": "<div>\n<style scoped>\n    .dataframe tbody tr th:only-of-type {\n        vertical-align: middle;\n    }\n\n    .dataframe tbody tr th {\n        vertical-align: top;\n    }\n\n    .dataframe thead th {\n        text-align: right;\n    }\n</style>\n<table border=\"1\" class=\"dataframe\">\n  <thead>\n    <tr style=\"text-align: right;\">\n      <th></th>\n      <th>user_id</th>\n      <th>counts</th>\n    </tr>\n  </thead>\n  <tbody>\n    <tr>\n      <th>0</th>\n      <td>bLbSNkLggFnqwNNzzq-Ijw</td>\n      <td>1959</td>\n    </tr>\n    <tr>\n      <th>1</th>\n      <td>ELcQDlf69kb-ihJfxZyL0A</td>\n      <td>1689</td>\n    </tr>\n    <tr>\n      <th>2</th>\n      <td>CxDOIDnH8gp9KXzpBHJYXw</td>\n      <td>1628</td>\n    </tr>\n    <tr>\n      <th>3</th>\n      <td>PKEzKWv_FktMm2mGPjwd0Q</td>\n      <td>1532</td>\n    </tr>\n    <tr>\n      <th>4</th>\n      <td>U4INQZOPSUaj8hMjLlZ3KA</td>\n      <td>1529</td>\n    </tr>\n    <tr>\n      <th>...</th>\n      <td>...</td>\n      <td>...</td>\n    </tr>\n    <tr>\n      <th>1601244</th>\n      <td>d_bbo2M-xg29l-yD6YvFLw</td>\n      <td>1</td>\n    </tr>\n    <tr>\n      <th>1601245</th>\n      <td>VTejp6GPkLcdJpdf4ebtBw</td>\n      <td>1</td>\n    </tr>\n    <tr>\n      <th>1601246</th>\n      <td>KZurrkPsuCtJ7bQsIqjMMw</td>\n      <td>1</td>\n    </tr>\n    <tr>\n      <th>1601247</th>\n      <td>ZTEP2bsIV4nscSKbMzrITg</td>\n      <td>1</td>\n    </tr>\n    <tr>\n      <th>1601248</th>\n      <td>L_EHD6jRMY-NhJ984GVfBw</td>\n      <td>1</td>\n    </tr>\n  </tbody>\n</table>\n<p>1601249 rows × 2 columns</p>\n</div>"
     },
     "metadata": {},
     "execution_count": 18
    }
   ],
   "source": [
    "users_comments"
   ]
  },
  {
   "cell_type": "code",
   "execution_count": 19,
   "metadata": {},
   "outputs": [
    {
     "output_type": "execute_result",
     "data": {
      "text/plain": [
       "                      user_id  counts\n",
       "0      bLbSNkLggFnqwNNzzq-Ijw    1959\n",
       "1      ELcQDlf69kb-ihJfxZyL0A    1689\n",
       "2      CxDOIDnH8gp9KXzpBHJYXw    1628\n",
       "3      PKEzKWv_FktMm2mGPjwd0Q    1532\n",
       "4      U4INQZOPSUaj8hMjLlZ3KA    1529\n",
       "...                       ...     ...\n",
       "40220  CQtiMK3BLQdPwpQN-3IhTw      20\n",
       "40221  PixAmdRa58XZ3hr8YLS36g      20\n",
       "40222  62EuwujtMdgx73cvMVFZYA      20\n",
       "40223  edp649wUqcjv8ckzztzssg      20\n",
       "40224  WzwtnkY9aRhajGa4ifQqLQ      20\n",
       "\n",
       "[40225 rows x 2 columns]"
      ],
      "text/html": "<div>\n<style scoped>\n    .dataframe tbody tr th:only-of-type {\n        vertical-align: middle;\n    }\n\n    .dataframe tbody tr th {\n        vertical-align: top;\n    }\n\n    .dataframe thead th {\n        text-align: right;\n    }\n</style>\n<table border=\"1\" class=\"dataframe\">\n  <thead>\n    <tr style=\"text-align: right;\">\n      <th></th>\n      <th>user_id</th>\n      <th>counts</th>\n    </tr>\n  </thead>\n  <tbody>\n    <tr>\n      <th>0</th>\n      <td>bLbSNkLggFnqwNNzzq-Ijw</td>\n      <td>1959</td>\n    </tr>\n    <tr>\n      <th>1</th>\n      <td>ELcQDlf69kb-ihJfxZyL0A</td>\n      <td>1689</td>\n    </tr>\n    <tr>\n      <th>2</th>\n      <td>CxDOIDnH8gp9KXzpBHJYXw</td>\n      <td>1628</td>\n    </tr>\n    <tr>\n      <th>3</th>\n      <td>PKEzKWv_FktMm2mGPjwd0Q</td>\n      <td>1532</td>\n    </tr>\n    <tr>\n      <th>4</th>\n      <td>U4INQZOPSUaj8hMjLlZ3KA</td>\n      <td>1529</td>\n    </tr>\n    <tr>\n      <th>...</th>\n      <td>...</td>\n      <td>...</td>\n    </tr>\n    <tr>\n      <th>40220</th>\n      <td>CQtiMK3BLQdPwpQN-3IhTw</td>\n      <td>20</td>\n    </tr>\n    <tr>\n      <th>40221</th>\n      <td>PixAmdRa58XZ3hr8YLS36g</td>\n      <td>20</td>\n    </tr>\n    <tr>\n      <th>40222</th>\n      <td>62EuwujtMdgx73cvMVFZYA</td>\n      <td>20</td>\n    </tr>\n    <tr>\n      <th>40223</th>\n      <td>edp649wUqcjv8ckzztzssg</td>\n      <td>20</td>\n    </tr>\n    <tr>\n      <th>40224</th>\n      <td>WzwtnkY9aRhajGa4ifQqLQ</td>\n      <td>20</td>\n    </tr>\n  </tbody>\n</table>\n<p>40225 rows × 2 columns</p>\n</div>"
     },
     "metadata": {},
     "execution_count": 19
    }
   ],
   "source": [
    "# and finally keep the ids of users with at least 20 reviews on B set.\n",
    "U = users_comments[users_comments['counts'] >= 20]\n",
    "U"
   ]
  },
  {
   "cell_type": "code",
   "execution_count": 22,
   "metadata": {},
   "outputs": [
    {
     "output_type": "display_data",
     "data": {
      "text/plain": "                        user_id      name  review_count  \\\n0        ntlvfPzc8eglqvk92iDIAw    Rafael           553   \n1        FOBRPlBHa3WPHFB5qYDlVg  Michelle           564   \n2        zZUnPeh2hEp0WydbAZEOOg    Martin            60   \n3        QaELAmRcDc5TfJEylaaP8g      John           206   \n4        xvu8G900tezTzbbfqmTKvA      Anne           485   \n...                         ...       ...           ...   \n1968698  gDC6V3sfu9SixRic9hkEQQ     Larry             9   \n1968699  VEAWhS_RF-cKSUflmbCn7Q     Frank            10   \n1968700  toAMthOzk2VDBgpW7Hu3eA      Greg             1   \n1968701  hNX_EqOMImKGUx4g1x532A        RJ             2   \n1968702  9lsXyOI065n-T0pJ_EoA_w     Aaron             2   \n\n                                                   friends  \n0        [oeMvJh94PiGQnx_6GlndPQ, wm1z1PaJKvHgSDRKfwhfD...  \n1        [ly7EnE8leJmyqyePVYFlug, pRlR63iDytsnnniPb3AOu...  \n2        [Uwlk0txjQBPw_JhHsQnyeg, Ybxr1tSCkv3lYA0I1qmnP...  \n3        [iog3Nyg1i4jeumiTVG_BSA, M92xWY2Vr9w0xoH8bPplf...  \n4        [3W3ZMSthojCUirKEqAwGNw, eTIbuu23j9tOgmIa9POyL...  \n...                                                    ...  \n1968698                                             [None]  \n1968699                                             [None]  \n1968700                                             [None]  \n1968701                                             [None]  \n1968702                                             [None]  \n\n[1968703 rows x 4 columns]",
      "text/html": "<div>\n<style scoped>\n    .dataframe tbody tr th:only-of-type {\n        vertical-align: middle;\n    }\n\n    .dataframe tbody tr th {\n        vertical-align: top;\n    }\n\n    .dataframe thead th {\n        text-align: right;\n    }\n</style>\n<table border=\"1\" class=\"dataframe\">\n  <thead>\n    <tr style=\"text-align: right;\">\n      <th></th>\n      <th>user_id</th>\n      <th>name</th>\n      <th>review_count</th>\n      <th>friends</th>\n    </tr>\n  </thead>\n  <tbody>\n    <tr>\n      <th>0</th>\n      <td>ntlvfPzc8eglqvk92iDIAw</td>\n      <td>Rafael</td>\n      <td>553</td>\n      <td>[oeMvJh94PiGQnx_6GlndPQ, wm1z1PaJKvHgSDRKfwhfD...</td>\n    </tr>\n    <tr>\n      <th>1</th>\n      <td>FOBRPlBHa3WPHFB5qYDlVg</td>\n      <td>Michelle</td>\n      <td>564</td>\n      <td>[ly7EnE8leJmyqyePVYFlug, pRlR63iDytsnnniPb3AOu...</td>\n    </tr>\n    <tr>\n      <th>2</th>\n      <td>zZUnPeh2hEp0WydbAZEOOg</td>\n      <td>Martin</td>\n      <td>60</td>\n      <td>[Uwlk0txjQBPw_JhHsQnyeg, Ybxr1tSCkv3lYA0I1qmnP...</td>\n    </tr>\n    <tr>\n      <th>3</th>\n      <td>QaELAmRcDc5TfJEylaaP8g</td>\n      <td>John</td>\n      <td>206</td>\n      <td>[iog3Nyg1i4jeumiTVG_BSA, M92xWY2Vr9w0xoH8bPplf...</td>\n    </tr>\n    <tr>\n      <th>4</th>\n      <td>xvu8G900tezTzbbfqmTKvA</td>\n      <td>Anne</td>\n      <td>485</td>\n      <td>[3W3ZMSthojCUirKEqAwGNw, eTIbuu23j9tOgmIa9POyL...</td>\n    </tr>\n    <tr>\n      <th>...</th>\n      <td>...</td>\n      <td>...</td>\n      <td>...</td>\n      <td>...</td>\n    </tr>\n    <tr>\n      <th>1968698</th>\n      <td>gDC6V3sfu9SixRic9hkEQQ</td>\n      <td>Larry</td>\n      <td>9</td>\n      <td>[None]</td>\n    </tr>\n    <tr>\n      <th>1968699</th>\n      <td>VEAWhS_RF-cKSUflmbCn7Q</td>\n      <td>Frank</td>\n      <td>10</td>\n      <td>[None]</td>\n    </tr>\n    <tr>\n      <th>1968700</th>\n      <td>toAMthOzk2VDBgpW7Hu3eA</td>\n      <td>Greg</td>\n      <td>1</td>\n      <td>[None]</td>\n    </tr>\n    <tr>\n      <th>1968701</th>\n      <td>hNX_EqOMImKGUx4g1x532A</td>\n      <td>RJ</td>\n      <td>2</td>\n      <td>[None]</td>\n    </tr>\n    <tr>\n      <th>1968702</th>\n      <td>9lsXyOI065n-T0pJ_EoA_w</td>\n      <td>Aaron</td>\n      <td>2</td>\n      <td>[None]</td>\n    </tr>\n  </tbody>\n</table>\n<p>1968703 rows × 4 columns</p>\n</div>"
     },
     "metadata": {}
    }
   ],
   "source": [
    "list_users = []\n",
    "with open(dataset_path + users_filename, 'r', encoding=\"utf8\") as users_file:\n",
    "    for line in users_file:\n",
    "        json_dict = json.loads(line)\n",
    "        list_users.append([ json_dict['user_id'], \n",
    "                            json_dict['name'], \n",
    "                            json_dict['review_count'], \n",
    "                            json_dict['friends'].replace(',', '').split()])\n",
    "\n",
    "df_users = pd.DataFrame(list_users, columns=['user_id', 'name', 'review_count', 'friends'])\n",
    "display(df_users)"
   ]
  },
  {
   "cell_type": "code",
   "execution_count": 23,
   "metadata": {},
   "outputs": [],
   "source": [
    "final = pd.merge(df_users, U, how='inner', on=['user_id'])"
   ]
  },
  {
   "cell_type": "code",
   "execution_count": 24,
   "metadata": {},
   "outputs": [
    {
     "output_type": "execute_result",
     "data": {
      "text/plain": [
       "                      user_id        name  review_count  \\\n",
       "0      ntlvfPzc8eglqvk92iDIAw      Rafael           553   \n",
       "1      FOBRPlBHa3WPHFB5qYDlVg    Michelle           564   \n",
       "2      f4_MRNHvN-yRn7EA8YWRxg    Jennifer           822   \n",
       "3      q-v8elVPvKz0KvK69QSj1Q  Lisa Marie           666   \n",
       "4      4VmuXuSRhv5UxYUy3tMpiQ     Rebecca           106   \n",
       "...                       ...         ...           ...   \n",
       "40220  0l443Ms-iOY1BLO277Z4Cw      Bonnie            22   \n",
       "40221  AN2m1dxk90mc3nytBxZh4A       Super            48   \n",
       "40222  d81KHrKBC0yti3XZSgLoPA      Cheryl            27   \n",
       "40223  XzGwz0ogpaozxW5c4E-eYQ      Andrew           745   \n",
       "40224  SU5swelEjsEjrssNnevitQ       James            72   \n",
       "\n",
       "                                                 friends  counts  \n",
       "0      [oeMvJh94PiGQnx_6GlndPQ, wm1z1PaJKvHgSDRKfwhfD...      51  \n",
       "1      [ly7EnE8leJmyqyePVYFlug, pRlR63iDytsnnniPb3AOu...      40  \n",
       "2      [c-Dja5bexzEWBufNsHfRrQ, 02HJNyOzzYXvEKVApJb8G...      38  \n",
       "3      [rt1KveqwFMnkN6dXKg5Qyg, NfnKx3z7zFottS3yHabw1...      68  \n",
       "4      [ZIoSgXGRMfq39eW6-FFWQA, ZucM8Rc7m4HguYM4kaoXS...      86  \n",
       "...                                                  ...     ...  \n",
       "40220                                             [None]      20  \n",
       "40221                                             [None]      25  \n",
       "40222                                             [None]      20  \n",
       "40223  [N-jUTuefV76lMYUpCF7g0w, PEsjETiHwtFMCvS809vRb...      21  \n",
       "40224  [6ckuqFjxwL_AvyDiTHtk0Q, ml8HT239EYfgW58EpyiJ_...      22  \n",
       "\n",
       "[40225 rows x 5 columns]"
      ],
      "text/html": "<div>\n<style scoped>\n    .dataframe tbody tr th:only-of-type {\n        vertical-align: middle;\n    }\n\n    .dataframe tbody tr th {\n        vertical-align: top;\n    }\n\n    .dataframe thead th {\n        text-align: right;\n    }\n</style>\n<table border=\"1\" class=\"dataframe\">\n  <thead>\n    <tr style=\"text-align: right;\">\n      <th></th>\n      <th>user_id</th>\n      <th>name</th>\n      <th>review_count</th>\n      <th>friends</th>\n      <th>counts</th>\n    </tr>\n  </thead>\n  <tbody>\n    <tr>\n      <th>0</th>\n      <td>ntlvfPzc8eglqvk92iDIAw</td>\n      <td>Rafael</td>\n      <td>553</td>\n      <td>[oeMvJh94PiGQnx_6GlndPQ, wm1z1PaJKvHgSDRKfwhfD...</td>\n      <td>51</td>\n    </tr>\n    <tr>\n      <th>1</th>\n      <td>FOBRPlBHa3WPHFB5qYDlVg</td>\n      <td>Michelle</td>\n      <td>564</td>\n      <td>[ly7EnE8leJmyqyePVYFlug, pRlR63iDytsnnniPb3AOu...</td>\n      <td>40</td>\n    </tr>\n    <tr>\n      <th>2</th>\n      <td>f4_MRNHvN-yRn7EA8YWRxg</td>\n      <td>Jennifer</td>\n      <td>822</td>\n      <td>[c-Dja5bexzEWBufNsHfRrQ, 02HJNyOzzYXvEKVApJb8G...</td>\n      <td>38</td>\n    </tr>\n    <tr>\n      <th>3</th>\n      <td>q-v8elVPvKz0KvK69QSj1Q</td>\n      <td>Lisa Marie</td>\n      <td>666</td>\n      <td>[rt1KveqwFMnkN6dXKg5Qyg, NfnKx3z7zFottS3yHabw1...</td>\n      <td>68</td>\n    </tr>\n    <tr>\n      <th>4</th>\n      <td>4VmuXuSRhv5UxYUy3tMpiQ</td>\n      <td>Rebecca</td>\n      <td>106</td>\n      <td>[ZIoSgXGRMfq39eW6-FFWQA, ZucM8Rc7m4HguYM4kaoXS...</td>\n      <td>86</td>\n    </tr>\n    <tr>\n      <th>...</th>\n      <td>...</td>\n      <td>...</td>\n      <td>...</td>\n      <td>...</td>\n      <td>...</td>\n    </tr>\n    <tr>\n      <th>40220</th>\n      <td>0l443Ms-iOY1BLO277Z4Cw</td>\n      <td>Bonnie</td>\n      <td>22</td>\n      <td>[None]</td>\n      <td>20</td>\n    </tr>\n    <tr>\n      <th>40221</th>\n      <td>AN2m1dxk90mc3nytBxZh4A</td>\n      <td>Super</td>\n      <td>48</td>\n      <td>[None]</td>\n      <td>25</td>\n    </tr>\n    <tr>\n      <th>40222</th>\n      <td>d81KHrKBC0yti3XZSgLoPA</td>\n      <td>Cheryl</td>\n      <td>27</td>\n      <td>[None]</td>\n      <td>20</td>\n    </tr>\n    <tr>\n      <th>40223</th>\n      <td>XzGwz0ogpaozxW5c4E-eYQ</td>\n      <td>Andrew</td>\n      <td>745</td>\n      <td>[N-jUTuefV76lMYUpCF7g0w, PEsjETiHwtFMCvS809vRb...</td>\n      <td>21</td>\n    </tr>\n    <tr>\n      <th>40224</th>\n      <td>SU5swelEjsEjrssNnevitQ</td>\n      <td>James</td>\n      <td>72</td>\n      <td>[6ckuqFjxwL_AvyDiTHtk0Q, ml8HT239EYfgW58EpyiJ_...</td>\n      <td>22</td>\n    </tr>\n  </tbody>\n</table>\n<p>40225 rows × 5 columns</p>\n</div>"
     },
     "metadata": {},
     "execution_count": 24
    }
   ],
   "source": [
    "final"
   ]
  },
  {
   "source": [
    "## Creating the G graph"
   ],
   "cell_type": "markdown",
   "metadata": {}
  },
  {
   "cell_type": "code",
   "execution_count": 33,
   "metadata": {},
   "outputs": [],
   "source": [
    "import networkx as nx\n",
    "\n",
    "G = nx.Graph()\n",
    "for index, row in final.iterrows():\n",
    "    for friend in row['friends']:\n",
    "        G.add_edge(row['user_id'], friend)"
   ]
  },
  {
   "source": [
    "### Max cc"
   ],
   "cell_type": "markdown",
   "metadata": {}
  },
  {
   "cell_type": "code",
   "execution_count": 34,
   "metadata": {},
   "outputs": [
    {
     "output_type": "error",
     "ename": "NameError",
     "evalue": "name 'G3' is not defined",
     "traceback": [
      "\u001b[1;31m---------------------------------------------------------------------------\u001b[0m",
      "\u001b[1;31mNameError\u001b[0m                                 Traceback (most recent call last)",
      "\u001b[1;32m<ipython-input-34-ccf230c7d143>\u001b[0m in \u001b[0;36m<module>\u001b[1;34m\u001b[0m\n\u001b[1;32m----> 1\u001b[1;33m \u001b[0mlargest_cc\u001b[0m \u001b[1;33m=\u001b[0m \u001b[0mmax\u001b[0m\u001b[1;33m(\u001b[0m\u001b[0mnx\u001b[0m\u001b[1;33m.\u001b[0m\u001b[0mconnected_components\u001b[0m\u001b[1;33m(\u001b[0m\u001b[0mG3\u001b[0m\u001b[1;33m)\u001b[0m\u001b[1;33m,\u001b[0m \u001b[0mkey\u001b[0m\u001b[1;33m=\u001b[0m\u001b[0mlen\u001b[0m\u001b[1;33m)\u001b[0m\u001b[1;33m\u001b[0m\u001b[1;33m\u001b[0m\u001b[0m\n\u001b[0m\u001b[0;32m      2\u001b[0m \u001b[0mnx\u001b[0m\u001b[1;33m.\u001b[0m\u001b[0mdraw_networkx\u001b[0m\u001b[1;33m(\u001b[0m\u001b[0mCC_max\u001b[0m\u001b[1;33m)\u001b[0m\u001b[1;33m\u001b[0m\u001b[1;33m\u001b[0m\u001b[0m\n",
      "\u001b[1;31mNameError\u001b[0m: name 'G3' is not defined"
     ]
    }
   ],
   "source": [
    "largest_cc = max(nx.connected_components(G), key=len)\n",
    "nx.draw_networkx(CC_max)"
   ]
  },
  {
   "cell_type": "code",
   "execution_count": null,
   "metadata": {},
   "outputs": [],
   "source": []
  }
 ]
}