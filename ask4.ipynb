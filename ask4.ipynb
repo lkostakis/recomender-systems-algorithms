{
 "metadata": {
  "language_info": {
   "codemirror_mode": {
    "name": "ipython",
    "version": 3
   },
   "file_extension": ".py",
   "mimetype": "text/x-python",
   "name": "python",
   "nbconvert_exporter": "python",
   "pygments_lexer": "ipython3",
   "version": "3.8.3-final"
  },
  "orig_nbformat": 2,
  "kernelspec": {
   "name": "python3",
   "display_name": "Python 3",
   "language": "python"
  }
 },
 "nbformat": 4,
 "nbformat_minor": 2,
 "cells": [
  {
   "source": [
    "# Ερώτηση 4"
   ],
   "cell_type": "markdown",
   "metadata": {}
  },
  {
   "cell_type": "code",
   "execution_count": 1,
   "metadata": {},
   "outputs": [],
   "source": [
    "import pandas as pd\n",
    "import numpy as np\n",
    "import json\n",
    "import time \n",
    "\n",
    "dataset_path = '../yelp-dataset/' # Change this path to match your local dataset folder path\n",
    "\n",
    "business_filename = 'yelp_academic_dataset_business.json'\n",
    "users_filename = 'yelp_academic_dataset_user.json'"
   ]
  },
  {
   "cell_type": "code",
   "execution_count": 2,
   "metadata": {},
   "outputs": [],
   "source": [
    "list_business = []\n",
    "with open(dataset_path + business_filename, 'r', encoding=\"utf8\") as buisness_file:\n",
    "    for line in buisness_file:\n",
    "        json_dict = json.loads(line)\n",
    "        if json_dict['review_count'] >= 10:\n",
    "            list_business.append([json_dict['business_id'], json_dict['name'], json_dict['review_count']]) "
   ]
  },
  {
   "cell_type": "code",
   "execution_count": 3,
   "metadata": {},
   "outputs": [
    {
     "output_type": "display_data",
     "data": {
      "text/plain": "                   business_id                          name  reviews_count\n0       f9NumwFMBDn751xgFiRbNA      The Range At Lake Norman             36\n1       51M2Kk903DFYI6gnB5I6SQ       USE MY GUY SERVICES LLC             26\n2       cKyLV5oWZJ2NudWgqs8VZw   Oasis Auto Center - Gilbert             38\n3       oiAlXZPIFm2nBCt0DHLu_Q          Green World Cleaners             81\n4       ScYkbYNkDgCneBrD9vqhCQ  Junction Tire & Auto Service             18\n...                        ...                           ...            ...\n103798  BAVuLTDmpSzDCk37A5HjtQ             Bruegger's Bagels             13\n103799  hskVqZCPqy-omm9CHi44xQ                      Domino's             16\n103800  JjcJVqhZXhP4tvOhg3fnag             Water Heater Pros            217\n103801  PotiAhtDMYMNsJCzV0oLAw                       Walmart             13\n103802  SYa2j1boLF8DcGVOYfHPcA                     Five Guys             97\n\n[103803 rows x 3 columns]",
      "text/html": "<div>\n<style scoped>\n    .dataframe tbody tr th:only-of-type {\n        vertical-align: middle;\n    }\n\n    .dataframe tbody tr th {\n        vertical-align: top;\n    }\n\n    .dataframe thead th {\n        text-align: right;\n    }\n</style>\n<table border=\"1\" class=\"dataframe\">\n  <thead>\n    <tr style=\"text-align: right;\">\n      <th></th>\n      <th>business_id</th>\n      <th>name</th>\n      <th>reviews_count</th>\n    </tr>\n  </thead>\n  <tbody>\n    <tr>\n      <th>0</th>\n      <td>f9NumwFMBDn751xgFiRbNA</td>\n      <td>The Range At Lake Norman</td>\n      <td>36</td>\n    </tr>\n    <tr>\n      <th>1</th>\n      <td>51M2Kk903DFYI6gnB5I6SQ</td>\n      <td>USE MY GUY SERVICES LLC</td>\n      <td>26</td>\n    </tr>\n    <tr>\n      <th>2</th>\n      <td>cKyLV5oWZJ2NudWgqs8VZw</td>\n      <td>Oasis Auto Center - Gilbert</td>\n      <td>38</td>\n    </tr>\n    <tr>\n      <th>3</th>\n      <td>oiAlXZPIFm2nBCt0DHLu_Q</td>\n      <td>Green World Cleaners</td>\n      <td>81</td>\n    </tr>\n    <tr>\n      <th>4</th>\n      <td>ScYkbYNkDgCneBrD9vqhCQ</td>\n      <td>Junction Tire &amp; Auto Service</td>\n      <td>18</td>\n    </tr>\n    <tr>\n      <th>...</th>\n      <td>...</td>\n      <td>...</td>\n      <td>...</td>\n    </tr>\n    <tr>\n      <th>103798</th>\n      <td>BAVuLTDmpSzDCk37A5HjtQ</td>\n      <td>Bruegger's Bagels</td>\n      <td>13</td>\n    </tr>\n    <tr>\n      <th>103799</th>\n      <td>hskVqZCPqy-omm9CHi44xQ</td>\n      <td>Domino's</td>\n      <td>16</td>\n    </tr>\n    <tr>\n      <th>103800</th>\n      <td>JjcJVqhZXhP4tvOhg3fnag</td>\n      <td>Water Heater Pros</td>\n      <td>217</td>\n    </tr>\n    <tr>\n      <th>103801</th>\n      <td>PotiAhtDMYMNsJCzV0oLAw</td>\n      <td>Walmart</td>\n      <td>13</td>\n    </tr>\n    <tr>\n      <th>103802</th>\n      <td>SYa2j1boLF8DcGVOYfHPcA</td>\n      <td>Five Guys</td>\n      <td>97</td>\n    </tr>\n  </tbody>\n</table>\n<p>103803 rows × 3 columns</p>\n</div>"
     },
     "metadata": {}
    }
   ],
   "source": [
    "df_buisness = pd.DataFrame(list_business, columns=['business_id', 'name', 'reviews_count'])\n",
    "display(df_buisness)"
   ]
  },
  {
   "cell_type": "code",
   "execution_count": 4,
   "metadata": {},
   "outputs": [],
   "source": [
    "graph_G = {} # dictionary whose keys are the nodes of the graph. \n",
    "             # For each key, the corresponding value is a list \n",
    "             # containing the nodes that are connected by a direct \n",
    "             # arc from this node."
   ]
  },
  {
   "cell_type": "code",
   "execution_count": 25,
   "metadata": {},
   "outputs": [],
   "source": [
    "list_users = []\n",
    "with open(dataset_path + users_filename, 'r', encoding=\"utf8\") as users_file:\n",
    "    for line in users_file:\n",
    "        json_dict = json.loads(line)\n",
    "        if json_dict['review_count'] >= 10 and json_dict['friends'] != 'None': \n",
    "            list_users.append([json_dict['user_id'], json_dict['name'], json_dict['review_count'], json_dict['friends'].replace(',', '').split()])\n",
    "            graph_G[json_dict['user_id']] = json_dict['friends'].replace(',', '').split() # converts long string of id's to a list."
   ]
  },
  {
   "cell_type": "code",
   "execution_count": 26,
   "metadata": {},
   "outputs": [
    {
     "output_type": "display_data",
     "data": {
      "text/plain": "                   business_id      name  review_count  \\\n0       ntlvfPzc8eglqvk92iDIAw    Rafael           553   \n1       FOBRPlBHa3WPHFB5qYDlVg  Michelle           564   \n2       zZUnPeh2hEp0WydbAZEOOg    Martin            60   \n3       QaELAmRcDc5TfJEylaaP8g      John           206   \n4       xvu8G900tezTzbbfqmTKvA      Anne           485   \n...                        ...       ...           ...   \n532942  oz0eh8MPenJvloapPJd6Iw     Frank            21   \n532943  XXstm7H54zEy0eqSwV6xOg  Charlene            14   \n532944  DQQ-AngIae2DrpapnFaP3g     Cindy            12   \n532945  3nLD8UrOXRQYb1GNaSxoYA   Jessica            32   \n532946  88Gznjnb0x8bJTh84JqqZQ     Hanna            35   \n\n                                                  friends  \n0       [oeMvJh94PiGQnx_6GlndPQ, wm1z1PaJKvHgSDRKfwhfD...  \n1       [ly7EnE8leJmyqyePVYFlug, pRlR63iDytsnnniPb3AOu...  \n2       [Uwlk0txjQBPw_JhHsQnyeg, Ybxr1tSCkv3lYA0I1qmnP...  \n3       [iog3Nyg1i4jeumiTVG_BSA, M92xWY2Vr9w0xoH8bPplf...  \n4       [3W3ZMSthojCUirKEqAwGNw, eTIbuu23j9tOgmIa9POyL...  \n...                                                   ...  \n532942                           [9djH4FrXXbuv0ogIqNsWgA]  \n532943                           [cqTGdXWgS1_edskd-cJPCA]  \n532944                           [ezfEXtW5-pVFuwV0bnpBaw]  \n532945                           [tDYysNkQGmEm1iJONRfruw]  \n532946                           [UlsGwbBfHzhy7QzFNpYM7w]  \n\n[532947 rows x 4 columns]",
      "text/html": "<div>\n<style scoped>\n    .dataframe tbody tr th:only-of-type {\n        vertical-align: middle;\n    }\n\n    .dataframe tbody tr th {\n        vertical-align: top;\n    }\n\n    .dataframe thead th {\n        text-align: right;\n    }\n</style>\n<table border=\"1\" class=\"dataframe\">\n  <thead>\n    <tr style=\"text-align: right;\">\n      <th></th>\n      <th>business_id</th>\n      <th>name</th>\n      <th>review_count</th>\n      <th>friends</th>\n    </tr>\n  </thead>\n  <tbody>\n    <tr>\n      <th>0</th>\n      <td>ntlvfPzc8eglqvk92iDIAw</td>\n      <td>Rafael</td>\n      <td>553</td>\n      <td>[oeMvJh94PiGQnx_6GlndPQ, wm1z1PaJKvHgSDRKfwhfD...</td>\n    </tr>\n    <tr>\n      <th>1</th>\n      <td>FOBRPlBHa3WPHFB5qYDlVg</td>\n      <td>Michelle</td>\n      <td>564</td>\n      <td>[ly7EnE8leJmyqyePVYFlug, pRlR63iDytsnnniPb3AOu...</td>\n    </tr>\n    <tr>\n      <th>2</th>\n      <td>zZUnPeh2hEp0WydbAZEOOg</td>\n      <td>Martin</td>\n      <td>60</td>\n      <td>[Uwlk0txjQBPw_JhHsQnyeg, Ybxr1tSCkv3lYA0I1qmnP...</td>\n    </tr>\n    <tr>\n      <th>3</th>\n      <td>QaELAmRcDc5TfJEylaaP8g</td>\n      <td>John</td>\n      <td>206</td>\n      <td>[iog3Nyg1i4jeumiTVG_BSA, M92xWY2Vr9w0xoH8bPplf...</td>\n    </tr>\n    <tr>\n      <th>4</th>\n      <td>xvu8G900tezTzbbfqmTKvA</td>\n      <td>Anne</td>\n      <td>485</td>\n      <td>[3W3ZMSthojCUirKEqAwGNw, eTIbuu23j9tOgmIa9POyL...</td>\n    </tr>\n    <tr>\n      <th>...</th>\n      <td>...</td>\n      <td>...</td>\n      <td>...</td>\n      <td>...</td>\n    </tr>\n    <tr>\n      <th>532942</th>\n      <td>oz0eh8MPenJvloapPJd6Iw</td>\n      <td>Frank</td>\n      <td>21</td>\n      <td>[9djH4FrXXbuv0ogIqNsWgA]</td>\n    </tr>\n    <tr>\n      <th>532943</th>\n      <td>XXstm7H54zEy0eqSwV6xOg</td>\n      <td>Charlene</td>\n      <td>14</td>\n      <td>[cqTGdXWgS1_edskd-cJPCA]</td>\n    </tr>\n    <tr>\n      <th>532944</th>\n      <td>DQQ-AngIae2DrpapnFaP3g</td>\n      <td>Cindy</td>\n      <td>12</td>\n      <td>[ezfEXtW5-pVFuwV0bnpBaw]</td>\n    </tr>\n    <tr>\n      <th>532945</th>\n      <td>3nLD8UrOXRQYb1GNaSxoYA</td>\n      <td>Jessica</td>\n      <td>32</td>\n      <td>[tDYysNkQGmEm1iJONRfruw]</td>\n    </tr>\n    <tr>\n      <th>532946</th>\n      <td>88Gznjnb0x8bJTh84JqqZQ</td>\n      <td>Hanna</td>\n      <td>35</td>\n      <td>[UlsGwbBfHzhy7QzFNpYM7w]</td>\n    </tr>\n  </tbody>\n</table>\n<p>532947 rows × 4 columns</p>\n</div>"
     },
     "metadata": {}
    }
   ],
   "source": [
    "df_users = pd.DataFrame(list_users, columns=['business_id', 'name', 'review_count', 'friends'])\n",
    "display(df_users)"
   ]
  },
  {
   "cell_type": "code",
   "execution_count": 93,
   "metadata": {},
   "outputs": [],
   "source": [
    "# Testing - connected components\n",
    "graph = {\n",
    "    'A' : ['B','C'],\n",
    "    'B' : ['D', 'E'],\n",
    "    'C' : ['F'],\n",
    "    'D' : [],\n",
    "    'E' : ['F'],\n",
    "    'F' : [],\n",
    "    'E1' : ['F1'],\n",
    "    'F1' : []\n",
    "}\n",
    "\n",
    "def dfs(visited, graph, node):\n",
    "    if node not in visited and node in graph.keys(): # skip missing nodes we trimmed in previous step\n",
    "        #print (node)\n",
    "        visited.add(node)\n",
    "        for neighbour in graph[node]:\n",
    "            dfs(visited, graph, neighbour)\n",
    "\n",
    "def iterative_dfs(visited, graph, node):\n",
    "    stack = []\n",
    "    stack.append(node) \n",
    "\n",
    "    while (len(stack)): \n",
    "        node = stack[-1] \n",
    "        stack.pop()\n",
    "\n",
    "        if node not in visited and node in graph.keys(): \n",
    "            #print(node, end=' ')\n",
    "            visited.add(node)\n",
    "\n",
    "        for node in graph[node]: \n",
    "            if node not in visited and node in graph.keys(): \n",
    "                stack.append(node) \n",
    "\n",
    "def connected_components(graph):\n",
    "    vertices_counter = 0\n",
    "    components_counter = 0\n",
    "    visited = set() # Set to keep track of visited nodes.\n",
    "    for vertex in graph.keys():\n",
    "        if vertex not in visited:\n",
    "            iterative_dfs(visited, graph, vertex)\n",
    "            components_counter += 1\n",
    "            vertices_counter = len(visited) - vertices_counter \n",
    "            print(\"CC {}, size {}\\n\".format(components_counter, vertices_counter))"
   ]
  },
  {
   "cell_type": "code",
   "execution_count": 94,
   "metadata": {
    "tags": []
   },
   "outputs": [
    {
     "output_type": "stream",
     "name": "stdout",
     "text": [
      "CC 1, size 6\n\nCC 2, size 2\n\n"
     ]
    }
   ],
   "source": [
    "connected_components(graph)"
   ]
  },
  {
   "cell_type": "code",
   "execution_count": null,
   "metadata": {},
   "outputs": [],
   "source": []
  }
 ]
}