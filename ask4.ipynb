{
 "metadata": {
  "language_info": {
   "codemirror_mode": {
    "name": "ipython",
    "version": 3
   },
   "file_extension": ".py",
   "mimetype": "text/x-python",
   "name": "python",
   "nbconvert_exporter": "python",
   "pygments_lexer": "ipython3",
   "version": "3.8.3-final"
  },
  "orig_nbformat": 2,
  "kernelspec": {
   "name": "python3",
   "display_name": "Python 3",
   "language": "python"
  }
 },
 "nbformat": 4,
 "nbformat_minor": 2,
 "cells": [
  {
   "source": [
    "\"# ΓΙΝΕΤΑΙ ΧΡΗΣΗ FREE PASS ΚΑΙ ΟΧΙ ΠΟΛΙΤΙΚΗ ΓΙΑ ΚΑΘΥΣΤΕΡΗΜΕΝΕΣ ΑΣΚΗΣΕΙΣ, ΕΙΧΑΜΕ ΧΡΗΣΙΜΟΠΟΙΗΣΕΙ 2 FREE PASS ΚΑΙ ΤΩΡΑ ΑΛΛΑ 2.\"\n",
    "\n",
    "\"# ΑΣΚΗΣΗ 4\\n\",\n",
    "\"Βασίλης Πουλος, 2805  \\n\",\n",
    "\"Κωστάκης Ελευθέριος-Παναγιώτης, 2741\""
   ],
   "cell_type": "code",
   "metadata": {},
   "execution_count": null,
   "outputs": []
  },
  {
   "cell_type": "code",
   "execution_count": 1,
   "metadata": {},
   "outputs": [],
   "source": [
    "import pandas as pd\n",
    "import numpy as np\n",
    "import json\n",
    "import time \n",
    "\n",
    "dataset_path = '../yelp-dataset/' # Change this path to match your local dataset folder path\n",
    "\n",
    "business_filename = 'yelp_academic_dataset_business.json'\n",
    "users_filename = 'yelp_academic_dataset_user.json'\n",
    "review_filename = 'yelp_academic_dataset_review.json'"
   ]
  },
  {
   "cell_type": "code",
   "execution_count": 2,
   "metadata": {},
   "outputs": [],
   "source": [
    "# Loading total businesses with at least 50 reviews\n",
    "business_list = []\n",
    "with open(dataset_path + business_filename, 'r', encoding=\"utf8\") as buisness_file:\n",
    "    for line in buisness_file:\n",
    "        json_dict = json.loads(line)\n",
    "        if json_dict['review_count'] >= 50:\n",
    "            business_list.append([ json_dict['business_id'], \n",
    "                                   json_dict['name'], \n",
    "                                   json_dict['review_count']]) "
   ]
  },
  {
   "cell_type": "code",
   "execution_count": 3,
   "metadata": {},
   "outputs": [
    {
     "output_type": "execute_result",
     "data": {
      "text/plain": [
       "array([['oiAlXZPIFm2nBCt0DHLu_Q', 'Green World Cleaners', '81'],\n",
       "       ['x3Po6tJGb729u_HJPY6UCA', 'Glendale Glitters', '52'],\n",
       "       ['Mmd5WDFq9hHcQ3uClngGjQ', \"Irene's Tap Room\", '79'],\n",
       "       ...,\n",
       "       ['fNil19SUfPAPnLQrYnFrGQ', 'Cheyenne West Animal Hospital', '124'],\n",
       "       ['JjcJVqhZXhP4tvOhg3fnag', 'Water Heater Pros', '217'],\n",
       "       ['SYa2j1boLF8DcGVOYfHPcA', 'Five Guys', '97']], dtype='<U64')"
      ]
     },
     "metadata": {},
     "execution_count": 3
    }
   ],
   "source": [
    "business_list = np.array(business_list)\n",
    "business_list"
   ]
  },
  {
   "cell_type": "code",
   "execution_count": 4,
   "metadata": {},
   "outputs": [
    {
     "output_type": "execute_result",
     "data": {
      "text/plain": [
       "31942"
      ]
     },
     "metadata": {},
     "execution_count": 4
    }
   ],
   "source": [
    "# Businesses that have at least 50 reviews\n",
    "B = set(business_list[:,0])\n",
    "len(B)"
   ]
  },
  {
   "cell_type": "code",
   "execution_count": 5,
   "metadata": {},
   "outputs": [
    {
     "output_type": "stream",
     "name": "stdout",
     "text": [
      "Read file in 1.215 mins\n"
     ]
    }
   ],
   "source": [
    "# User, Business, Rating (u, b, r)\n",
    "start = time.time()\n",
    "\n",
    "reviews_list = []\n",
    "with open(dataset_path + review_filename, 'r', encoding=\"utf8\") as reviews_file:\n",
    "    for line in reviews_file:\n",
    "        json_dict = json.loads(line)\n",
    "        if json_dict['business_id'] in B:\n",
    "            reviews_list.append([json_dict['user_id'], json_dict['business_id'], json_dict['stars']])\n",
    "\n",
    "reviews_list = np.array(reviews_list)       \n",
    "stop = time.time()\n",
    "print(\"Read file in {:.3f} mins\".format((stop-start)/60))"
   ]
  },
  {
   "cell_type": "code",
   "execution_count": 6,
   "metadata": {},
   "outputs": [
    {
     "output_type": "execute_result",
     "data": {
      "text/plain": [
       "40225"
      ]
     },
     "metadata": {},
     "execution_count": 6
    }
   ],
   "source": [
    "# Conting unique users that commented at least 20 times on businesses from B set\n",
    "\n",
    "users = reviews_list[:,0]\n",
    "users, counts = np.unique(users, return_counts=True)\n",
    "unique_users = []\n",
    "for i in range(len(users)):\n",
    "    if counts[i] >= 20:\n",
    "        unique_users.append(users[i])\n",
    "unique_users = np.array(unique_users)\n",
    "len(unique_users)"
   ]
  },
  {
   "cell_type": "code",
   "execution_count": 7,
   "metadata": {},
   "outputs": [],
   "source": [
    "# convert to set for efficiency\n",
    "U = set(unique_users)"
   ]
  },
  {
   "cell_type": "code",
   "execution_count": 8,
   "metadata": {},
   "outputs": [
    {
     "output_type": "stream",
     "name": "stdout",
     "text": [
      "Read file in 0.382 mins\n"
     ]
    }
   ],
   "source": [
    "# load friends information\n",
    "start = time.time()\n",
    "\n",
    "list_users = []\n",
    "with open(dataset_path + users_filename, 'r', encoding=\"utf8\") as users_file:\n",
    "    for line in users_file:\n",
    "        json_dict = json.loads(line)\n",
    "        if json_dict['user_id'] in U:\n",
    "            list_users.append([ json_dict['user_id'], \n",
    "                                json_dict['friends'].replace(',', '').split()])\n",
    "stop = time.time()\n",
    "print(\"Read file in {:.3f} mins\".format((stop-start)/60))"
   ]
  },
  {
   "source": [
    "## Creating G graph"
   ],
   "cell_type": "markdown",
   "metadata": {}
  },
  {
   "cell_type": "code",
   "execution_count": 9,
   "metadata": {
    "tags": []
   },
   "outputs": [],
   "source": [
    "import networkx as nx\n",
    "\n",
    "G = nx.Graph()\n",
    "for user in list_users:\n",
    "    for friend in user[1]: # user friendlist\n",
    "        if friend in U: # don't add users that aren't in U.\n",
    "            G.add_edge(user[0], friend)"
   ]
  },
  {
   "cell_type": "code",
   "execution_count": 10,
   "metadata": {},
   "outputs": [],
   "source": [
    "largest_cc = max(nx.connected_components(G), key=len)\n",
    "CC_max = nx.subgraph(G, largest_cc)"
   ]
  },
  {
   "source": [
    "### Is max cc the same as the whole graph? (Should be 0)"
   ],
   "cell_type": "markdown",
   "metadata": {}
  },
  {
   "cell_type": "code",
   "execution_count": 11,
   "metadata": {},
   "outputs": [
    {
     "output_type": "execute_result",
     "data": {
      "text/plain": [
       "168"
      ]
     },
     "metadata": {},
     "execution_count": 11
    }
   ],
   "source": [
    "len(G) - len(CC_max)"
   ]
  },
  {
   "cell_type": "code",
   "execution_count": 12,
   "metadata": {},
   "outputs": [
    {
     "output_type": "execute_result",
     "data": {
      "text/plain": [
       "31983"
      ]
     },
     "metadata": {},
     "execution_count": 12
    }
   ],
   "source": [
    "len(G)"
   ]
  },
  {
   "cell_type": "code",
   "execution_count": 13,
   "metadata": {},
   "outputs": [
    {
     "output_type": "execute_result",
     "data": {
      "text/plain": [
       "31815"
      ]
     },
     "metadata": {},
     "execution_count": 13
    }
   ],
   "source": [
    "len(CC_max.nodes())"
   ]
  },
  {
   "source": [
    "## Pruning"
   ],
   "cell_type": "markdown",
   "metadata": {}
  },
  {
   "cell_type": "code",
   "execution_count": 14,
   "metadata": {},
   "outputs": [],
   "source": [
    "user_set = set(CC_max.nodes())"
   ]
  },
  {
   "cell_type": "code",
   "execution_count": 15,
   "metadata": {},
   "outputs": [
    {
     "output_type": "stream",
     "name": "stdout",
     "text": [
      "[['OwjRMXRC0KyPrIlcjaXeFQ' '-MhfebM0QIsKt87iDN-FNw' '2.0']\n ['V34qejxNsCbcgD8C0HVk-Q' 'HQl28KMwrEKHqhFrrDqVNQ' '5.0']\n ['ofKDkJKXSKZXu5xJNGiiBQ' '5JxlZaqCnk1MnbgRirs40Q' '1.0']\n ...\n ['Scmyz7MK4TbXXYcaLZxIxQ' 'kDCyqlYcstqnoqnfBRS5Og' '5.0']\n ['lBuAACBEThaQHQGMzAlKpg' 'VKVDDHKtsdrnigeIf9S8RA' '3.0']\n ['fiA6ztHPONUkmX6yKIXyHg' '2SbyRgHWuWNlq18eHAx95Q' '5.0']]\nlength: 5852610\n"
     ]
    }
   ],
   "source": [
    "print(reviews_list)\n",
    "print(\"length: {}\".format(len(reviews_list)))"
   ]
  },
  {
   "cell_type": "code",
   "execution_count": 16,
   "metadata": {},
   "outputs": [
    {
     "output_type": "stream",
     "name": "stdout",
     "text": [
      "4175563 indexes deleted\n"
     ]
    }
   ],
   "source": [
    "indexes_to_delete = []\n",
    "\n",
    "for index, user in enumerate(reviews_list[:,0]):\n",
    "    if user not in user_set:\n",
    "        indexes_to_delete.append(index)\n",
    "\n",
    "for index, user in enumerate(reviews_list[:,1]):\n",
    "    if user not in B:\n",
    "        indexes_to_delete.append(index)\n",
    "\n",
    "reviews_pruned = np.delete(reviews_list, indexes_to_delete, 0)\n",
    "print(\"{} indexes deleted\".format(len(indexes_to_delete)))"
   ]
  },
  {
   "source": [
    "## Results from pruned table"
   ],
   "cell_type": "markdown",
   "metadata": {}
  },
  {
   "cell_type": "code",
   "execution_count": 17,
   "metadata": {},
   "outputs": [
    {
     "output_type": "stream",
     "name": "stdout",
     "text": [
      "Users: 31815\n",
      "Businesses: 31900\n",
      "Reviews: 1677047\n"
     ]
    }
   ],
   "source": [
    "print(\"Users: {}\".format(len(np.unique(reviews_pruned[:,0]))))\n",
    "print(\"Businesses: {}\".format(len(np.unique(reviews_pruned[:,1]))))\n",
    "print(\"Reviews: {}\".format(len(reviews_pruned)))"
   ]
  },
  {
   "cell_type": "code",
   "execution_count": null,
   "metadata": {},
   "outputs": [],
   "source": []
  },
  {
   "source": [
    "# Part 2"
   ],
   "cell_type": "markdown",
   "metadata": {}
  },
  {
   "cell_type": "code",
   "execution_count": 18,
   "metadata": {},
   "outputs": [
    {
     "output_type": "execute_result",
     "data": {
      "text/plain": [
       "                        user_id             business_id rating\n",
       "0        V34qejxNsCbcgD8C0HVk-Q  HQl28KMwrEKHqhFrrDqVNQ    5.0\n",
       "1        UgMW8bLE0QMJDCkQ1Ax5Mg  IS4cv902ykd8wj1TR0N3-A    4.0\n",
       "2        jOERvhmK6_lo_XGUBPws_w  Ws8V970-mQt2X9CwCuT5zw    4.0\n",
       "3        A0j21z2Q1HGic7jW6e9h7A  9Jo1pu0y2zU6ktiwQm6gNA    4.0\n",
       "4        TZQSUDDcA4ek5gBd6BzcjA  qUWqjjjfpB2-4P3He5rsKw    4.0\n",
       "...                         ...                     ...    ...\n",
       "1677042  OmBHPdD3UhTeO3UHq6kBjA  lvOOJmJ4y0BLi31Muq3a8w    2.0\n",
       "1677043  bH3Uc0YNlnKubj8cT4nQ0w  H8qpFitIesth86zqR4cwYg    5.0\n",
       "1677044  _g6P8H3-qfbz1FxbffS68g  IsoLzudHC50oJLiEWpwV-w    3.0\n",
       "1677045  Scmyz7MK4TbXXYcaLZxIxQ  kDCyqlYcstqnoqnfBRS5Og    5.0\n",
       "1677046  fiA6ztHPONUkmX6yKIXyHg  2SbyRgHWuWNlq18eHAx95Q    5.0\n",
       "\n",
       "[1677047 rows x 3 columns]"
      ],
      "text/html": "<div>\n<style scoped>\n    .dataframe tbody tr th:only-of-type {\n        vertical-align: middle;\n    }\n\n    .dataframe tbody tr th {\n        vertical-align: top;\n    }\n\n    .dataframe thead th {\n        text-align: right;\n    }\n</style>\n<table border=\"1\" class=\"dataframe\">\n  <thead>\n    <tr style=\"text-align: right;\">\n      <th></th>\n      <th>user_id</th>\n      <th>business_id</th>\n      <th>rating</th>\n    </tr>\n  </thead>\n  <tbody>\n    <tr>\n      <th>0</th>\n      <td>V34qejxNsCbcgD8C0HVk-Q</td>\n      <td>HQl28KMwrEKHqhFrrDqVNQ</td>\n      <td>5.0</td>\n    </tr>\n    <tr>\n      <th>1</th>\n      <td>UgMW8bLE0QMJDCkQ1Ax5Mg</td>\n      <td>IS4cv902ykd8wj1TR0N3-A</td>\n      <td>4.0</td>\n    </tr>\n    <tr>\n      <th>2</th>\n      <td>jOERvhmK6_lo_XGUBPws_w</td>\n      <td>Ws8V970-mQt2X9CwCuT5zw</td>\n      <td>4.0</td>\n    </tr>\n    <tr>\n      <th>3</th>\n      <td>A0j21z2Q1HGic7jW6e9h7A</td>\n      <td>9Jo1pu0y2zU6ktiwQm6gNA</td>\n      <td>4.0</td>\n    </tr>\n    <tr>\n      <th>4</th>\n      <td>TZQSUDDcA4ek5gBd6BzcjA</td>\n      <td>qUWqjjjfpB2-4P3He5rsKw</td>\n      <td>4.0</td>\n    </tr>\n    <tr>\n      <th>...</th>\n      <td>...</td>\n      <td>...</td>\n      <td>...</td>\n    </tr>\n    <tr>\n      <th>1677042</th>\n      <td>OmBHPdD3UhTeO3UHq6kBjA</td>\n      <td>lvOOJmJ4y0BLi31Muq3a8w</td>\n      <td>2.0</td>\n    </tr>\n    <tr>\n      <th>1677043</th>\n      <td>bH3Uc0YNlnKubj8cT4nQ0w</td>\n      <td>H8qpFitIesth86zqR4cwYg</td>\n      <td>5.0</td>\n    </tr>\n    <tr>\n      <th>1677044</th>\n      <td>_g6P8H3-qfbz1FxbffS68g</td>\n      <td>IsoLzudHC50oJLiEWpwV-w</td>\n      <td>3.0</td>\n    </tr>\n    <tr>\n      <th>1677045</th>\n      <td>Scmyz7MK4TbXXYcaLZxIxQ</td>\n      <td>kDCyqlYcstqnoqnfBRS5Og</td>\n      <td>5.0</td>\n    </tr>\n    <tr>\n      <th>1677046</th>\n      <td>fiA6ztHPONUkmX6yKIXyHg</td>\n      <td>2SbyRgHWuWNlq18eHAx95Q</td>\n      <td>5.0</td>\n    </tr>\n  </tbody>\n</table>\n<p>1677047 rows × 3 columns</p>\n</div>"
     },
     "metadata": {},
     "execution_count": 18
    }
   ],
   "source": [
    "UBR_df = pd.DataFrame(reviews_pruned, columns = ['user_id', 'business_id', 'rating'])\n",
    "UBR_df"
   ]
  },
  {
   "cell_type": "code",
   "execution_count": 19,
   "metadata": {},
   "outputs": [
    {
     "output_type": "stream",
     "name": "stdout",
     "text": [
      "Sample data should have 83852 rows \n\n83852\n"
     ]
    }
   ],
   "source": [
    "import math\n",
    "\n",
    "sample_data = UBR_df.sample(frac=0.05)\n",
    "for index in sample_data.index:\n",
    "    UBR_df.at[index, 'rating'] = 0\n",
    "\n",
    "print(\"Sample data should have {} rows \\n\".format(math.floor(len(UBR_df)*0.05)))\n",
    "print(len(sample_data))"
   ]
  },
  {
   "cell_type": "code",
   "execution_count": 20,
   "metadata": {},
   "outputs": [],
   "source": [
    "# Create the numpy array, unique_users and unique_business lists\n",
    "UBR = UBR_df.to_numpy()\n",
    "unique_users = np.unique(UBR[:,0])\n",
    "unique_business = np.unique(UBR[:,1])"
   ]
  },
  {
   "cell_type": "code",
   "execution_count": 21,
   "metadata": {},
   "outputs": [
    {
     "output_type": "execute_result",
     "data": {
      "text/plain": [
       "array([['V34qejxNsCbcgD8C0HVk-Q', 'HQl28KMwrEKHqhFrrDqVNQ', '5.0'],\n",
       "       ['UgMW8bLE0QMJDCkQ1Ax5Mg', 'IS4cv902ykd8wj1TR0N3-A', '4.0'],\n",
       "       ['jOERvhmK6_lo_XGUBPws_w', 'Ws8V970-mQt2X9CwCuT5zw', '4.0'],\n",
       "       ...,\n",
       "       ['_g6P8H3-qfbz1FxbffS68g', 'IsoLzudHC50oJLiEWpwV-w', '3.0'],\n",
       "       ['Scmyz7MK4TbXXYcaLZxIxQ', 'kDCyqlYcstqnoqnfBRS5Og', '5.0'],\n",
       "       ['fiA6ztHPONUkmX6yKIXyHg', '2SbyRgHWuWNlq18eHAx95Q', 0]],\n",
       "      dtype=object)"
      ]
     },
     "metadata": {},
     "execution_count": 21
    }
   ],
   "source": [
    "UBR"
   ]
  },
  {
   "cell_type": "code",
   "execution_count": 22,
   "metadata": {},
   "outputs": [
    {
     "output_type": "execute_result",
     "data": {
      "text/plain": [
       "'V34qejxNsCbcgD8C0HVk-Q'"
      ]
     },
     "metadata": {},
     "execution_count": 22
    }
   ],
   "source": [
    "UBR[:,0][0]"
   ]
  },
  {
   "cell_type": "code",
   "execution_count": 35,
   "metadata": {},
   "outputs": [],
   "source": [
    "sparse_array = np.zeros((len(unique_users), len(unique_business)))\n",
    "for i in range(len(unique_users)):\n",
    "    business_index = np.where(unique_users[i] == UBR[:,0]) \n",
    "    \n",
    "    users_ratings = list(UBR[business_index[0]][:,2])\n",
    "    business_ids = UBR[business_index[0]][:,1]\n",
    "    sparse_row = np.zeros(len(unique_business))\n",
    "    for j in range(len(unique_business)):\n",
    "        if unique_business[j] in business_ids:\n",
    "            sparse_row[j] = users_ratings.pop(0)\n",
    "    sparse_array[i] = sparse_row"
   ]
  },
  {
   "cell_type": "code",
   "execution_count": 36,
   "metadata": {},
   "outputs": [
    {
     "output_type": "execute_result",
     "data": {
      "text/plain": [
       "array([[0., 0., 5., ..., 0., 0., 0.],\n",
       "       [0., 0., 0., ..., 0., 0., 0.],\n",
       "       [0., 0., 0., ..., 0., 0., 0.],\n",
       "       ...,\n",
       "       [0., 0., 0., ..., 0., 0., 0.],\n",
       "       [0., 0., 0., ..., 0., 0., 0.],\n",
       "       [0., 0., 0., ..., 0., 0., 0.]])"
      ]
     },
     "metadata": {},
     "execution_count": 36
    }
   ],
   "source": [
    "sparse_array"
   ]
  },
  {
   "cell_type": "code",
   "execution_count": 38,
   "metadata": {},
   "outputs": [
    {
     "output_type": "execute_result",
     "data": {
      "text/plain": [
       "(31815, 31900)"
      ]
     },
     "metadata": {},
     "execution_count": 38
    }
   ],
   "source": [
    "sparse_array.shape"
   ]
  },
  {
   "cell_type": "code",
   "execution_count": null,
   "metadata": {},
   "outputs": [],
   "source": []
  }
 ]
}