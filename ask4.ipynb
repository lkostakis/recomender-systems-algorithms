{
 "metadata": {
  "language_info": {
   "codemirror_mode": {
    "name": "ipython",
    "version": 3
   },
   "file_extension": ".py",
   "mimetype": "text/x-python",
   "name": "python",
   "nbconvert_exporter": "python",
   "pygments_lexer": "ipython3",
   "version": "3.8.3-final"
  },
  "orig_nbformat": 2,
  "kernelspec": {
   "name": "python3",
   "display_name": "Python 3",
   "language": "python"
  }
 },
 "nbformat": 4,
 "nbformat_minor": 2,
 "cells": [
  {
   "source": [
    "# Ερώτηση 4"
   ],
   "cell_type": "markdown",
   "metadata": {}
  },
  {
   "cell_type": "code",
   "execution_count": 1,
   "metadata": {},
   "outputs": [],
   "source": [
    "import pandas as pd\n",
    "import numpy as np\n",
    "import json\n",
    "import time \n",
    "\n",
    "dataset_path = '../yelp-dataset/' # Change this path to match your local dataset folder path\n",
    "\n",
    "business_filename = 'yelp_academic_dataset_business.json'\n",
    "users_filename = 'yelp_academic_dataset_user.json'\n",
    "review_filename = 'yelp_academic_dataset_review.json'"
   ]
  },
  {
   "cell_type": "code",
   "execution_count": 2,
   "metadata": {},
   "outputs": [],
   "source": [
    "# Loading total businesses with at least 50 reviews\n",
    "business_list = []\n",
    "with open(dataset_path + business_filename, 'r', encoding=\"utf8\") as buisness_file:\n",
    "    for line in buisness_file:\n",
    "        json_dict = json.loads(line)\n",
    "        if json_dict['review_count'] >= 50:\n",
    "            business_list.append([ json_dict['business_id'], \n",
    "                                   json_dict['name'], \n",
    "                                   json_dict['review_count']]) "
   ]
  },
  {
   "cell_type": "code",
   "execution_count": 3,
   "metadata": {},
   "outputs": [],
   "source": [
    "business_list = np.array(business_list)"
   ]
  },
  {
   "cell_type": "code",
   "execution_count": 4,
   "metadata": {},
   "outputs": [
    {
     "output_type": "execute_result",
     "data": {
      "text/plain": [
       "31942"
      ]
     },
     "metadata": {},
     "execution_count": 4
    }
   ],
   "source": [
    "# Businesses that have at least 50 reviews\n",
    "B = set(business_list[:,0])\n",
    "len(B)"
   ]
  },
  {
   "cell_type": "code",
   "execution_count": 5,
   "metadata": {},
   "outputs": [
    {
     "output_type": "stream",
     "name": "stdout",
     "text": [
      "Read file in 1.462 mins\n"
     ]
    }
   ],
   "source": [
    "# Business-user ids pairs\n",
    "start = time.time()\n",
    "\n",
    "reviews_list = []\n",
    "with open(dataset_path + review_filename, 'r', encoding=\"utf8\") as reviews_file:\n",
    "    for line in reviews_file:\n",
    "        json_dict = json.loads(line)\n",
    "        if json_dict['business_id'] in B:\n",
    "            reviews_list.append([json_dict['business_id'], json_dict['user_id']])\n",
    "\n",
    "reviews_list = np.array(reviews_list)       \n",
    "stop = time.time()\n",
    "print(\"Read file in {:.3f} mins\".format((stop-start)/60))"
   ]
  },
  {
   "cell_type": "code",
   "execution_count": 6,
   "metadata": {},
   "outputs": [
    {
     "output_type": "execute_result",
     "data": {
      "text/plain": [
       "40225"
      ]
     },
     "metadata": {},
     "execution_count": 6
    }
   ],
   "source": [
    "# Conting unique users that commented at least 20 times on B\n",
    "\n",
    "users = reviews_list[:,1]\n",
    "users, counts = np.unique(users, return_counts=True)\n",
    "unique_users = []\n",
    "for i in range(len(users)):\n",
    "    if counts[i] >= 20:\n",
    "        unique_users.append(users[i])\n",
    "unique_users = np.array(unique_users)\n",
    "len(unique_users)"
   ]
  },
  {
   "cell_type": "code",
   "execution_count": 7,
   "metadata": {},
   "outputs": [],
   "source": [
    "# convert to set for efficiency\n",
    "U = set(unique_users)"
   ]
  },
  {
   "cell_type": "code",
   "execution_count": 16,
   "metadata": {},
   "outputs": [
    {
     "output_type": "stream",
     "name": "stdout",
     "text": [
      "Read file in 0.704 mins\n"
     ]
    }
   ],
   "source": [
    "start = time.time()\n",
    "\n",
    "list_users = []\n",
    "with open(dataset_path + users_filename, 'r', encoding=\"utf8\") as users_file:\n",
    "    for line in users_file:\n",
    "        json_dict = json.loads(line)\n",
    "        if json_dict['user_id'] in U:\n",
    "            list_users.append([ json_dict['user_id'], \n",
    "                                json_dict['friends'].replace(',', '').split()])\n",
    "stop = time.time()\n",
    "print(\"Read file in {:.3f} mins\".format((stop-start)/60))"
   ]
  },
  {
   "cell_type": "code",
   "execution_count": 17,
   "metadata": {},
   "outputs": [
    {
     "output_type": "execute_result",
     "data": {
      "text/plain": [
       "40225"
      ]
     },
     "metadata": {},
     "execution_count": 17
    }
   ],
   "source": [
    "len(list_users)"
   ]
  },
  {
   "cell_type": "code",
   "execution_count": 31,
   "metadata": {},
   "outputs": [
    {
     "output_type": "execute_result",
     "data": {
      "text/plain": [
       "['ntlvfPzc8eglqvk92iDIAw',\n",
       " ['oeMvJh94PiGQnx_6GlndPQ',\n",
       "  'wm1z1PaJKvHgSDRKfwhfDg',\n",
       "  'IkRib6Xs91PPW7pon7VVig',\n",
       "  'A8Aq8f0-XvLBcyMk2GJdJQ',\n",
       "  'eEZM1kogR7eL4GOBZyPvBA',\n",
       "  'e1o1LN7ez5ckCpQeAab4iw',\n",
       "  '_HrJVzFaRFUhPva8cwBjpQ',\n",
       "  'pZeGZGzX-ROT_D5lam5uNg',\n",
       "  '0S6EI51ej5J7dgYz3-O0lA',\n",
       "  'woDt8raW-AorxQM_tIE2eA',\n",
       "  'hWUnSE5gKXNe7bDc8uAG9A',\n",
       "  'c_3LDSO2RHwZ94_Q6j_O7w',\n",
       "  '-uv1wDiaplY6eXXS0VwQiA',\n",
       "  'QFjqxXn3acDC7hckFGUKMg',\n",
       "  'ErOqapICmHPTN8YobZIcfQ',\n",
       "  'mJLRvqLOKhqEdkgt9iEaCQ',\n",
       "  'VKX7jlScJSA-ja5hYRw12Q',\n",
       "  'ijIC9w5PRcj3dWVlanjZeg',\n",
       "  'CIZGlEw-Bp0rmkP8M6yQ9Q',\n",
       "  'OC6fT5WZ8EU7tEVJ3bzPBQ',\n",
       "  'UZSDGTDpycDzrlfUlyw2dQ',\n",
       "  'deL6e_z9xqZTIODKqnvRXQ',\n",
       "  '5mG2ENw2PylIWElqHSMGqg',\n",
       "  'Uh5Kug2fvDd51RYmsNZkGg',\n",
       "  '4dI4uoShugD9z84fYupelQ',\n",
       "  'EQpFHqGT9Tk6YSwORTtwpg',\n",
       "  'o4EGL2-ICGmRJzJ3GxB-vw',\n",
       "  's8gK7sdVzJcYKcPv2dkZXw',\n",
       "  'vOYVZgb_GVe-kdtjQwSUHw',\n",
       "  'wBbjgHsrKr7BsPBrQwJf2w',\n",
       "  'p59u2EC_qcmCmLeX1jCi5Q',\n",
       "  'VSAZI1eHDrOPRWMK4Q2DIQ',\n",
       "  'efMfeI_dkhpeGykaRJqxfQ',\n",
       "  'x6qYcQ8_i0mMDzSLsFCbZg',\n",
       "  'K_zSmtNGw1fu-vmxyTVfCQ',\n",
       "  '5IM6YPQCK-NABkXmHhlRGQ',\n",
       "  'U_w8ZMD26vnkeeS1sD7s4Q',\n",
       "  'AbfS_oXF8H6HJb5jFqhrLw',\n",
       "  'hbcjX4_D4KIfonNnwrH-cg',\n",
       "  'UKf66_MPz0zHCP70mF6p1g',\n",
       "  'hK2gYbxZRTqcqlSiQQcrtQ',\n",
       "  '2Q45w_Twx_T9dXqlE16xtQ',\n",
       "  'BwRn8qcKSeA77HLaOTbfiQ',\n",
       "  'jouOn4VS_DtFPtMR2w8VDA',\n",
       "  'ESteyJabbfvqas6CEDs3pQ']]"
      ]
     },
     "metadata": {},
     "execution_count": 31
    }
   ],
   "source": [
    "list_users[0]"
   ]
  },
  {
   "source": [
    "## Creating G graph"
   ],
   "cell_type": "markdown",
   "metadata": {}
  },
  {
   "cell_type": "code",
   "execution_count": 36,
   "metadata": {
    "tags": []
   },
   "outputs": [],
   "source": [
    "import networkx as nx\n",
    "\n",
    "G = nx.Graph()\n",
    "for user in list_users:\n",
    "    for friend in user[1]: # user friendlist\n",
    "        if friend in U: # don't add users that aren't in U.\n",
    "            G.add_edge(user[0], friend)"
   ]
  },
  {
   "cell_type": "code",
   "execution_count": 37,
   "metadata": {},
   "outputs": [
    {
     "output_type": "execute_result",
     "data": {
      "text/plain": [
       "31983"
      ]
     },
     "metadata": {},
     "execution_count": 37
    }
   ],
   "source": [
    "len(G.nodes())"
   ]
  },
  {
   "cell_type": "code",
   "execution_count": 40,
   "metadata": {},
   "outputs": [],
   "source": [
    "largest_cc = max(nx.connected_components(G), key=len)\n",
    "CC_max = nx.subgraph(G, largest_cc)"
   ]
  },
  {
   "cell_type": "code",
   "execution_count": 43,
   "metadata": {},
   "outputs": [
    {
     "output_type": "execute_result",
     "data": {
      "text/plain": [
       "31815"
      ]
     },
     "metadata": {},
     "execution_count": 43
    }
   ],
   "source": [
    "len(CC_max.nodes())"
   ]
  },
  {
   "cell_type": "code",
   "execution_count": null,
   "metadata": {},
   "outputs": [],
   "source": []
  }
 ]
}