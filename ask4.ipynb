{
 "metadata": {
  "language_info": {
   "codemirror_mode": {
    "name": "ipython",
    "version": 3
   },
   "file_extension": ".py",
   "mimetype": "text/x-python",
   "name": "python",
   "nbconvert_exporter": "python",
   "pygments_lexer": "ipython3",
   "version": "3.8.3-final"
  },
  "orig_nbformat": 2,
  "kernelspec": {
   "name": "python3",
   "display_name": "Python 3",
   "language": "python"
  }
 },
 "nbformat": 4,
 "nbformat_minor": 2,
 "cells": [
  {
   "source": [
    "# Ερώτηση 4"
   ],
   "cell_type": "markdown",
   "metadata": {}
  },
  {
   "cell_type": "code",
   "execution_count": 3,
   "metadata": {},
   "outputs": [],
   "source": [
    "import pandas as pd\n",
    "import numpy as np\n",
    "import json\n",
    "import time \n",
    "\n",
    "dataset_path = '../yelp-dataset/' # Change this path to match your local dataset folder path\n",
    "\n",
    "business_filename = 'yelp_academic_dataset_business.json'\n",
    "users_filename = 'yelp_academic_dataset_user.json'\n",
    "review_filename = 'yelp_academic_dataset_review.json'"
   ]
  },
  {
   "cell_type": "code",
   "execution_count": 4,
   "metadata": {},
   "outputs": [],
   "source": [
    "# Loading total businesses with at least 50 reviews\n",
    "business_list = []\n",
    "with open(dataset_path + business_filename, 'r', encoding=\"utf8\") as buisness_file:\n",
    "    for line in buisness_file:\n",
    "        json_dict = json.loads(line)\n",
    "        if json_dict['review_count'] >= 50:\n",
    "            business_list.append([ json_dict['business_id'], \n",
    "                                   json_dict['name'], \n",
    "                                   json_dict['review_count']]) "
   ]
  },
  {
   "cell_type": "code",
   "execution_count": 85,
   "metadata": {},
   "outputs": [
    {
     "output_type": "execute_result",
     "data": {
      "text/plain": [
       "array([['oiAlXZPIFm2nBCt0DHLu_Q', 'Green World Cleaners', '81'],\n",
       "       ['x3Po6tJGb729u_HJPY6UCA', 'Glendale Glitters', '52'],\n",
       "       ['Mmd5WDFq9hHcQ3uClngGjQ', \"Irene's Tap Room\", '79'],\n",
       "       ...,\n",
       "       ['fNil19SUfPAPnLQrYnFrGQ', 'Cheyenne West Animal Hospital', '124'],\n",
       "       ['JjcJVqhZXhP4tvOhg3fnag', 'Water Heater Pros', '217'],\n",
       "       ['SYa2j1boLF8DcGVOYfHPcA', 'Five Guys', '97']], dtype='<U64')"
      ]
     },
     "metadata": {},
     "execution_count": 85
    }
   ],
   "source": [
    "business_list = np.array(business_list)\n",
    "business_list"
   ]
  },
  {
   "cell_type": "code",
   "execution_count": 6,
   "metadata": {},
   "outputs": [
    {
     "output_type": "execute_result",
     "data": {
      "text/plain": [
       "31942"
      ]
     },
     "metadata": {},
     "execution_count": 6
    }
   ],
   "source": [
    "# Businesses that have at least 50 reviews\n",
    "B = set(business_list[:,0])\n",
    "len(B)"
   ]
  },
  {
   "cell_type": "code",
   "execution_count": 7,
   "metadata": {},
   "outputs": [
    {
     "output_type": "stream",
     "name": "stdout",
     "text": [
      "Read file in 1.155 mins\n"
     ]
    }
   ],
   "source": [
    "# User, Business, Rating (u, b, r)\n",
    "start = time.time()\n",
    "\n",
    "reviews_list = []\n",
    "with open(dataset_path + review_filename, 'r', encoding=\"utf8\") as reviews_file:\n",
    "    for line in reviews_file:\n",
    "        json_dict = json.loads(line)\n",
    "        if json_dict['business_id'] in B:\n",
    "            reviews_list.append([json_dict['user_id'], json_dict['business_id'], json_dict['stars']])\n",
    "\n",
    "reviews_list = np.array(reviews_list)       \n",
    "stop = time.time()\n",
    "print(\"Read file in {:.3f} mins\".format((stop-start)/60))"
   ]
  },
  {
   "cell_type": "code",
   "execution_count": 8,
   "metadata": {},
   "outputs": [
    {
     "output_type": "execute_result",
     "data": {
      "text/plain": [
       "40225"
      ]
     },
     "metadata": {},
     "execution_count": 8
    }
   ],
   "source": [
    "# Conting unique users that commented at least 20 times on businesses from B set\n",
    "\n",
    "users = reviews_list[:,0]\n",
    "users, counts = np.unique(users, return_counts=True)\n",
    "unique_users = []\n",
    "for i in range(len(users)):\n",
    "    if counts[i] >= 20:\n",
    "        unique_users.append(users[i])\n",
    "unique_users = np.array(unique_users)\n",
    "len(unique_users)"
   ]
  },
  {
   "cell_type": "code",
   "execution_count": 9,
   "metadata": {},
   "outputs": [],
   "source": [
    "# convert to set for efficiency\n",
    "U = set(unique_users)"
   ]
  },
  {
   "cell_type": "code",
   "execution_count": 10,
   "metadata": {},
   "outputs": [
    {
     "output_type": "stream",
     "name": "stdout",
     "text": [
      "Read file in 0.409 mins\n"
     ]
    }
   ],
   "source": [
    "start = time.time()\n",
    "\n",
    "list_users = []\n",
    "with open(dataset_path + users_filename, 'r', encoding=\"utf8\") as users_file:\n",
    "    for line in users_file:\n",
    "        json_dict = json.loads(line)\n",
    "        if json_dict['user_id'] in U:\n",
    "            list_users.append([ json_dict['user_id'], \n",
    "                                json_dict['friends'].replace(',', '').split()])\n",
    "stop = time.time()\n",
    "print(\"Read file in {:.3f} mins\".format((stop-start)/60))"
   ]
  },
  {
   "cell_type": "code",
   "execution_count": 11,
   "metadata": {},
   "outputs": [
    {
     "output_type": "execute_result",
     "data": {
      "text/plain": [
       "40225"
      ]
     },
     "metadata": {},
     "execution_count": 11
    }
   ],
   "source": [
    "len(list_users)"
   ]
  },
  {
   "source": [
    "## Creating G graph"
   ],
   "cell_type": "markdown",
   "metadata": {}
  },
  {
   "cell_type": "code",
   "execution_count": 13,
   "metadata": {
    "tags": []
   },
   "outputs": [],
   "source": [
    "import networkx as nx\n",
    "\n",
    "G = nx.Graph()\n",
    "for user in list_users:\n",
    "    for friend in user[1]: # user friendlist\n",
    "        if friend in U: # don't add users that aren't in U.\n",
    "            G.add_edge(user[0], friend)"
   ]
  },
  {
   "cell_type": "code",
   "execution_count": 15,
   "metadata": {},
   "outputs": [],
   "source": [
    "largest_cc = max(nx.connected_components(G), key=len)\n",
    "CC_max = nx.subgraph(G, largest_cc)"
   ]
  },
  {
   "source": [
    "### Is max cc the same as the whole graph? (Should be 0)"
   ],
   "cell_type": "markdown",
   "metadata": {}
  },
  {
   "cell_type": "code",
   "execution_count": 17,
   "metadata": {},
   "outputs": [
    {
     "output_type": "execute_result",
     "data": {
      "text/plain": [
       "168"
      ]
     },
     "metadata": {},
     "execution_count": 17
    }
   ],
   "source": [
    "len(G.nodes()) - len(CC_max.nodes())"
   ]
  },
  {
   "source": [
    "## Pruning"
   ],
   "cell_type": "markdown",
   "metadata": {}
  },
  {
   "cell_type": "code",
   "execution_count": 96,
   "metadata": {},
   "outputs": [],
   "source": [
    "user_set = set(CC_max.nodes())"
   ]
  },
  {
   "cell_type": "code",
   "execution_count": 97,
   "metadata": {},
   "outputs": [
    {
     "output_type": "stream",
     "name": "stdout",
     "text": [
      "[['-MhfebM0QIsKt87iDN-FNw' 'OwjRMXRC0KyPrIlcjaXeFQ' '2.0']\n ['HQl28KMwrEKHqhFrrDqVNQ' 'V34qejxNsCbcgD8C0HVk-Q' '5.0']\n ['5JxlZaqCnk1MnbgRirs40Q' 'ofKDkJKXSKZXu5xJNGiiBQ' '1.0']\n ...\n ['kDCyqlYcstqnoqnfBRS5Og' 'Scmyz7MK4TbXXYcaLZxIxQ' '5.0']\n ['VKVDDHKtsdrnigeIf9S8RA' 'lBuAACBEThaQHQGMzAlKpg' '3.0']\n ['2SbyRgHWuWNlq18eHAx95Q' 'fiA6ztHPONUkmX6yKIXyHg' '5.0']]\nlength: 5852610\n"
     ]
    }
   ],
   "source": [
    "print(reviews_list)\n",
    "print(\"length: {}\".format(len(reviews_list)))"
   ]
  },
  {
   "cell_type": "code",
   "execution_count": 104,
   "metadata": {},
   "outputs": [
    {
     "output_type": "stream",
     "name": "stdout",
     "text": [
      "3914996 indexes deleted\n"
     ]
    }
   ],
   "source": [
    "indexes_to_delete = []\n",
    "\n",
    "for index, user in enumerate(reviews_list[:,1]):\n",
    "    if user not in U:\n",
    "        indexes_to_delete.append(index)\n",
    "\n",
    "for index, user in enumerate(reviews_list[:,0]):\n",
    "    if user not in B:\n",
    "        indexes_to_delete.append(index)\n",
    "\n",
    "reviews_pruned = np.delete(reviews_list, indexes_to_delete, 0)\n",
    "print(\"{} indexes deleted\".format(len(indexes_to_delete)))"
   ]
  },
  {
   "cell_type": "code",
   "execution_count": 103,
   "metadata": {},
   "outputs": [],
   "source": []
  },
  {
   "source": [
    "## Results from pruned table"
   ],
   "cell_type": "markdown",
   "metadata": {}
  },
  {
   "cell_type": "code",
   "execution_count": 102,
   "metadata": {},
   "outputs": [
    {
     "output_type": "stream",
     "name": "stdout",
     "text": [
      "Businesses: 31914\n",
      "Users: 40225\n",
      "Reviews: 1937614\n"
     ]
    }
   ],
   "source": [
    "print(\"Businesses: {}\".format(len(np.unique(reviews_pruned[:,0]))))\n",
    "print(\"Users: {}\".format(len(np.unique(reviews_pruned[:,1]))))\n",
    "print(\"Reviews: {}\".format(len(reviews_pruned)))"
   ]
  },
  {
   "cell_type": "code",
   "execution_count": null,
   "metadata": {},
   "outputs": [],
   "source": []
  }
 ]
}